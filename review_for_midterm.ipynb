{
  "nbformat": 4,
  "nbformat_minor": 0,
  "metadata": {
    "colab": {
      "name": "review for midterm.ipynb",
      "provenance": [],
      "authorship_tag": "ABX9TyOP7yTl7BNpsp/Jx7gg1gMN",
      "include_colab_link": true
    },
    "kernelspec": {
      "display_name": "Python 3",
      "name": "python3"
    },
    "language_info": {
      "name": "python"
    }
  },
  "cells": [
    {
      "cell_type": "markdown",
      "metadata": {
        "id": "view-in-github",
        "colab_type": "text"
      },
      "source": [
        "<a href=\"https://colab.research.google.com/github/KingNawat/Class-work/blob/main/review_for_midterm.ipynb\" target=\"_parent\"><img src=\"https://colab.research.google.com/assets/colab-badge.svg\" alt=\"Open In Colab\"/></a>"
      ]
    },
    {
      "cell_type": "code",
      "metadata": {
        "colab": {
          "base_uri": "https://localhost:8080/"
        },
        "id": "BmEtyLB0KNlZ",
        "outputId": "5fa2b2f5-8cd2-4c09-fef1-597c35439a0a"
      },
      "source": [
        "print('hello')"
      ],
      "execution_count": null,
      "outputs": [
        {
          "name": "stdout",
          "output_type": "stream",
          "text": [
            "hello\n"
          ]
        }
      ]
    },
    {
      "cell_type": "code",
      "metadata": {
        "colab": {
          "base_uri": "https://localhost:8080/"
        },
        "id": "q81vlAzqKTTf",
        "outputId": "d39cd932-2ebf-4c0e-ee56-78f2546633ec"
      },
      "source": [
        "a = 10*'a'\n",
        "print(a)"
      ],
      "execution_count": null,
      "outputs": [
        {
          "name": "stdout",
          "output_type": "stream",
          "text": [
            "aaaaaaaaaa\n"
          ]
        }
      ]
    },
    {
      "cell_type": "code",
      "metadata": {
        "colab": {
          "base_uri": "https://localhost:8080/"
        },
        "id": "kY0vyaKjL3Pr",
        "outputId": "c3ef4aef-8d05-42c6-f2f1-da3047c5b7a4"
      },
      "source": [
        "list('abc')"
      ],
      "execution_count": null,
      "outputs": [
        {
          "data": {
            "text/plain": [
              "['a', 'b', 'c']"
            ]
          },
          "execution_count": 4,
          "metadata": {},
          "output_type": "execute_result"
        }
      ]
    },
    {
      "cell_type": "code",
      "metadata": {
        "colab": {
          "base_uri": "https://localhost:8080/"
        },
        "id": "01GpUm11M4pE",
        "outputId": "5ee736ef-cf6f-4e0a-d3c0-9b713d4fb956"
      },
      "source": [
        "list(range(1,6)) #<-- end before the last number"
      ],
      "execution_count": null,
      "outputs": [
        {
          "data": {
            "text/plain": [
              "[1, 2, 3, 4, 5]"
            ]
          },
          "execution_count": 6,
          "metadata": {},
          "output_type": "execute_result"
        }
      ]
    },
    {
      "cell_type": "code",
      "metadata": {
        "id": "1Scmhr5NNHlL"
      },
      "source": [
        "#there is also append and delete\n",
        "#len give us size of the list\n",
        "#print(0 in list)"
      ],
      "execution_count": null,
      "outputs": []
    },
    {
      "cell_type": "code",
      "metadata": {
        "colab": {
          "base_uri": "https://localhost:8080/"
        },
        "id": "mjT8o-tVOsyy",
        "outputId": "e136396a-5f3b-4604-a732-4d302563e8f8"
      },
      "source": [
        "dict = {'one':1, 'two':2, 'three':3}\n",
        "print(dict['one']) #diffrent from the list in the form of the bracket"
      ],
      "execution_count": null,
      "outputs": [
        {
          "name": "stdout",
          "output_type": "stream",
          "text": [
            "1\n"
          ]
        }
      ]
    },
    {
      "cell_type": "code",
      "metadata": {
        "colab": {
          "base_uri": "https://localhost:8080/"
        },
        "id": "BDtjIsS8O5U-",
        "outputId": "be8c9507-8b50-4870-ef46-927616353bcb"
      },
      "source": [
        "dict"
      ],
      "execution_count": null,
      "outputs": [
        {
          "data": {
            "text/plain": [
              "{'one': 1, 'three': 3, 'two': 2}"
            ]
          },
          "execution_count": 9,
          "metadata": {},
          "output_type": "execute_result"
        }
      ]
    },
    {
      "cell_type": "code",
      "metadata": {
        "colab": {
          "base_uri": "https://localhost:8080/"
        },
        "id": "G_aOJMnQPXxw",
        "outputId": "4ebd496a-8acd-4cb7-b91f-f3091f5b6ee4"
      },
      "source": [
        "age = 15\n",
        "if age > 20:\n",
        "  print('you are old')\n",
        "print('You are young')"
      ],
      "execution_count": null,
      "outputs": [
        {
          "name": "stdout",
          "output_type": "stream",
          "text": [
            "You are young\n"
          ]
        }
      ]
    },
    {
      "cell_type": "code",
      "metadata": {
        "colab": {
          "base_uri": "https://localhost:8080/"
        },
        "id": "GhsZRJrcQ73z",
        "outputId": "d5696fd4-743f-4b08-9797-a6e5de78b5b1"
      },
      "source": [
        "for i in range(0,5):\n",
        "  print(i)"
      ],
      "execution_count": null,
      "outputs": [
        {
          "name": "stdout",
          "output_type": "stream",
          "text": [
            "0\n",
            "1\n",
            "2\n",
            "3\n",
            "4\n"
          ]
        }
      ]
    },
    {
      "cell_type": "code",
      "metadata": {
        "colab": {
          "base_uri": "https://localhost:8080/"
        },
        "id": "0z68cVwQSGOb",
        "outputId": "3c9e73ed-6c7f-4eb3-88a5-3dc46ceb2d7f"
      },
      "source": [
        "for i in range(0,5):\n",
        "  print('hello', i)"
      ],
      "execution_count": null,
      "outputs": [
        {
          "name": "stdout",
          "output_type": "stream",
          "text": [
            "hello 0\n",
            "hello 1\n",
            "hello 2\n",
            "hello 3\n",
            "hello 4\n"
          ]
        }
      ]
    },
    {
      "cell_type": "code",
      "metadata": {
        "colab": {
          "base_uri": "https://localhost:8080/"
        },
        "id": "BUNulonHSXCv",
        "outputId": "409a3ae4-fe80-440b-f219-7c6de8642b13"
      },
      "source": [
        "for i in ['a', 'b', 'c']:\n",
        "  print(i)"
      ],
      "execution_count": null,
      "outputs": [
        {
          "name": "stdout",
          "output_type": "stream",
          "text": [
            "a\n",
            "b\n",
            "c\n"
          ]
        }
      ]
    },
    {
      "cell_type": "code",
      "metadata": {
        "id": "-5WB3e7ISzjx"
      },
      "source": [
        "for i in range(0,200):\n",
        "  if (i % 2) == 0:\n",
        "    print(-1)\n",
        "  else:\n",
        "    print(1)"
      ],
      "execution_count": null,
      "outputs": []
    },
    {
      "cell_type": "code",
      "metadata": {
        "colab": {
          "base_uri": "https://localhost:8080/"
        },
        "id": "4GXKePjDVGQG",
        "outputId": "b6b6ded4-355a-4389-d259-c3eba80c5479"
      },
      "source": [
        "s = 0\n",
        "for i in range(1,101):\n",
        "  s = s+i\n",
        "print(s)"
      ],
      "execution_count": null,
      "outputs": [
        {
          "name": "stdout",
          "output_type": "stream",
          "text": [
            "5050\n"
          ]
        }
      ]
    },
    {
      "cell_type": "code",
      "metadata": {
        "colab": {
          "base_uri": "https://localhost:8080/"
        },
        "id": "nDbsKF46WO32",
        "outputId": "f71d7c31-d47e-48e8-e5ec-838b01ef98bc"
      },
      "source": [
        "x = 0\n",
        "for i in range(1,101,2):\n",
        "  x = x+i\n",
        "for i in range(2,101,2):\n",
        "  x = x+(1/i)\n",
        "print(x)"
      ],
      "execution_count": null,
      "outputs": [
        {
          "name": "stdout",
          "output_type": "stream",
          "text": [
            "2502.2496026691647\n"
          ]
        }
      ]
    },
    {
      "cell_type": "code",
      "metadata": {
        "id": "B87u2DN-WzW4"
      },
      "source": [
        "i=0\n",
        "while i<10:\n",
        "  print(i)\n",
        "  i=i+1\n",
        "  if i==5:\n",
        "    break"
      ],
      "execution_count": null,
      "outputs": []
    },
    {
      "cell_type": "code",
      "metadata": {
        "colab": {
          "base_uri": "https://localhost:8080/"
        },
        "id": "QKP7NCndX2k1",
        "outputId": "d937ac5e-7984-4d65-f052-f6bf296de517"
      },
      "source": [
        "x = 0\n",
        "for i in range(1,10000):\n",
        "  x = x+i\n",
        "  if x > 5000:\n",
        "    break\n",
        "print(i-1)\n",
        "#Problem find maximum x such that 1 + 2 + 3 + ... x  < 5000\n",
        "#using for\n"
      ],
      "execution_count": null,
      "outputs": [
        {
          "name": "stdout",
          "output_type": "stream",
          "text": [
            "99\n"
          ]
        }
      ]
    },
    {
      "cell_type": "code",
      "metadata": {
        "id": "HsyahgWJZThX"
      },
      "source": [
        "import random\n",
        "x = random.randint(1, 100)\n",
        "print(x)"
      ],
      "execution_count": null,
      "outputs": []
    },
    {
      "cell_type": "code",
      "metadata": {
        "id": "tKeQu1Rpb2BS"
      },
      "source": [
        "guess = int(input('Guess x '))\n",
        "print(guess)"
      ],
      "execution_count": null,
      "outputs": []
    },
    {
      "cell_type": "code",
      "metadata": {
        "id": "_AGRip3_cvPT"
      },
      "source": [
        "import random\n",
        "guess = -1\n",
        "x = random.randint(1, 100)\n",
        "while guess != x:\n",
        "  guess = int(input('Guess x '))\n",
        "  if x > guess:\n",
        "    print('More than ', guess)\n",
        "  if x < guess:\n",
        "    print('Less than ', guess)\n",
        "  if x == guess:\n",
        "    print('Correct!!!')"
      ],
      "execution_count": null,
      "outputs": []
    },
    {
      "cell_type": "code",
      "metadata": {
        "id": "MaadjF4negvT"
      },
      "source": [
        "def printn(text,n):\n",
        "  for i in range(0,n):\n",
        "    print(text)\n",
        "    "
      ],
      "execution_count": null,
      "outputs": []
    },
    {
      "cell_type": "code",
      "metadata": {
        "colab": {
          "base_uri": "https://localhost:8080/"
        },
        "id": "yNIiUa4NfCQi",
        "outputId": "3ae11086-8bbe-4316-d174-b58dec743fff"
      },
      "source": [
        "printn('abc',3)\n"
      ],
      "execution_count": null,
      "outputs": [
        {
          "name": "stdout",
          "output_type": "stream",
          "text": [
            "abc\n",
            "abc\n",
            "abc\n"
          ]
        }
      ]
    },
    {
      "cell_type": "code",
      "metadata": {
        "id": "oPI0UGkEfvjh"
      },
      "source": [
        "def even(x):\n",
        "  if x%2 == 0:\n",
        "    return True\n",
        "  return False\n",
        "#remember that this is the logic test "
      ],
      "execution_count": null,
      "outputs": []
    },
    {
      "cell_type": "code",
      "metadata": {
        "colab": {
          "base_uri": "https://localhost:8080/"
        },
        "id": "BxB_3wmBf1cF",
        "outputId": "5262263a-8862-4aaf-cf48-bf6de2605eb4"
      },
      "source": [
        "x = int(input('What is your x: '))\n",
        "if even(x):\n",
        "  print('x is even')\n",
        "else:\n",
        "  print('x is odd')"
      ],
      "execution_count": null,
      "outputs": [
        {
          "name": "stdout",
          "output_type": "stream",
          "text": [
            "What is your x: 6\n",
            "x is even\n"
          ]
        }
      ]
    },
    {
      "cell_type": "code",
      "metadata": {
        "id": "HotJFXk7iXNj"
      },
      "source": [
        "import pandas as pd\n"
      ],
      "execution_count": null,
      "outputs": []
    },
    {
      "cell_type": "code",
      "metadata": {
        "id": "M99B4I9Ujc9K"
      },
      "source": [
        "from google.colab import drive\n",
        "import pandas as pd\n",
        "import os\n"
      ],
      "execution_count": null,
      "outputs": []
    },
    {
      "cell_type": "code",
      "metadata": {
        "colab": {
          "base_uri": "https://localhost:8080/"
        },
        "id": "xBmKFFcGk2B5",
        "outputId": "c84949cd-1c88-4eeb-9321-35dc34a97ab7"
      },
      "source": [
        "z = 0\n",
        "for i in range(0,1000):\n",
        "  z = z+i\n",
        "  if z > 5000:\n",
        "    break\n",
        "print(i-1)"
      ],
      "execution_count": null,
      "outputs": [
        {
          "name": "stdout",
          "output_type": "stream",
          "text": [
            "99\n"
          ]
        }
      ]
    },
    {
      "cell_type": "code",
      "metadata": {
        "colab": {
          "base_uri": "https://localhost:8080/"
        },
        "id": "pHmulu54rafd",
        "outputId": "daabbc08-c610-4514-9b34-07b4240f2cab"
      },
      "source": [
        "x = int(input('What is your x: '))\n",
        "y = int(input('WHat is your y: '))\n",
        "if x*y > 1000:\n",
        "  print(x*y)\n",
        "else: \n",
        "  print(x+y)"
      ],
      "execution_count": null,
      "outputs": [
        {
          "name": "stdout",
          "output_type": "stream",
          "text": [
            "What is your x: 1\n",
            "WHat is your y: 2\n",
            "3\n"
          ]
        }
      ]
    },
    {
      "cell_type": "code",
      "metadata": {
        "colab": {
          "base_uri": "https://localhost:8080/"
        },
        "id": "MmJuSwpLtWI8",
        "outputId": "f067ae70-6f7e-4b17-ab8f-bf2f24d31e1e"
      },
      "source": [
        "x = 0\n",
        "for i in range(0,11):\n",
        "  x = x+i\n",
        "  print(x)"
      ],
      "execution_count": null,
      "outputs": [
        {
          "name": "stdout",
          "output_type": "stream",
          "text": [
            "0\n",
            "1\n",
            "3\n",
            "6\n",
            "10\n",
            "15\n",
            "21\n",
            "28\n",
            "36\n",
            "45\n",
            "55\n"
          ]
        }
      ]
    },
    {
      "cell_type": "code",
      "metadata": {
        "colab": {
          "base_uri": "https://localhost:8080/"
        },
        "id": "L4-LRaemt689",
        "outputId": "d50fa0ec-04cf-4a67-ecc7-8e94fabfecea"
      },
      "source": [
        "list1 = [1,2,4]\n",
        "list2 = [1,3,5]\n",
        "\n",
        "list3 = list1 + list2\n",
        "(list3)"
      ],
      "execution_count": null,
      "outputs": [
        {
          "name": "stdout",
          "output_type": "stream",
          "text": [
            "[1, 2, 4, 1, 3, 5]\n"
          ]
        }
      ]
    },
    {
      "cell_type": "code",
      "metadata": {
        "id": "zKPBCCiZvT1b"
      },
      "source": [
        "def decimaladd(a,b):\n",
        "  c = []; carry = 0; z = 0; x = 0\n",
        "  if len(a) > len(b):\n",
        "    z = len(a)\n",
        "    x = len(a)-len(b)\n",
        "    for i in range (0,x):\n",
        "      a.insert(i,0)\n",
        "  else:\n",
        "    z = len(b)\n",
        "    x = len(b)-len(a)\n",
        "    for i in range (0,x):\n",
        "      a.insert(i,0)\n",
        "  for i in range(-1,(-z-1),-1):\n",
        "    result = a[i] + b[i] + carry\n",
        "    carry = 0\n",
        "    if result >= 10:\n",
        "      carry = 1\n",
        "      result = result - 10\n",
        "    else: \n",
        "      carry = 0\n",
        "    c = [result] + c\n",
        "  if carry==1:\n",
        "    c = [1] + c  \n",
        "  return c\n",
        "\n"
      ],
      "execution_count": null,
      "outputs": []
    },
    {
      "cell_type": "code",
      "metadata": {
        "colab": {
          "base_uri": "https://localhost:8080/"
        },
        "id": "2TUC4fxm8d8Z",
        "outputId": "0e7da43c-298f-4338-b3ca-c4c966695c6f"
      },
      "source": [
        "decimaladd([3,3,3,5,1],[5,5,5,5])"
      ],
      "execution_count": null,
      "outputs": [
        {
          "data": {
            "text/plain": [
              "[8, 8, 9, 0]"
            ]
          },
          "execution_count": 96,
          "metadata": {},
          "output_type": "execute_result"
        }
      ]
    },
    {
      "cell_type": "code",
      "metadata": {
        "id": "AXelfKix9UkL"
      },
      "source": [
        "def decimaladd(a,b):\n",
        "  c = []; carry = 0; z = 0; x = 0\n",
        "  if len(a) > len(b):\n",
        "    z = len(a)\n",
        "    x = len(a)-len(b)\n",
        "    for i in range (0,x):\n",
        "      b.insert(i,0)\n",
        "  else:\n",
        "    z = len(b)\n",
        "    x = len(b)-len(a)\n",
        "    for i in range (0,x):\n",
        "      a.insert(i,0)\n",
        "  for i in range(-1,(-z-1),-1):\n",
        "    result = a[i] + b[i] + carry\n",
        "    if result >= 10:\n",
        "      carry = 1\n",
        "      result = result - 10\n",
        "    else: \n",
        "      carry = 0\n",
        "    c = [result] + c\n",
        "  if carry==1:\n",
        "    c = [1] + c  \n",
        "  return c"
      ],
      "execution_count": null,
      "outputs": []
    },
    {
      "cell_type": "code",
      "metadata": {
        "colab": {
          "base_uri": "https://localhost:8080/"
        },
        "id": "tAEeWq5e_z1_",
        "outputId": "53c13f80-b351-4851-c902-f60fa6c67160"
      },
      "source": [
        "decimaladd([3,3,3,5,1],[5,5,5,5])"
      ],
      "execution_count": null,
      "outputs": [
        {
          "data": {
            "text/plain": [
              "[3, 8, 9, 0, 6]"
            ]
          },
          "execution_count": 108,
          "metadata": {},
          "output_type": "execute_result"
        }
      ]
    },
    {
      "cell_type": "code",
      "metadata": {
        "colab": {
          "base_uri": "https://localhost:8080/"
        },
        "id": "6CV3zeT5FY6b",
        "outputId": "af2e3578-97f3-4ddf-bf41-6f4e4cf945ef"
      },
      "source": [
        "credit = int(input('What is your credits: '))\n",
        "if credit <= 20 and credit >= 12:\n",
        "  print(15000)\n",
        "if credit > 20:\n",
        "  print(1000*(credit-20)+15000)\n",
        "if credit < 20:\n",
        "  print(credit*1000)"
      ],
      "execution_count": null,
      "outputs": [
        {
          "name": "stdout",
          "output_type": "stream",
          "text": [
            "What is your credits: 21\n",
            "16000\n"
          ]
        }
      ]
    },
    {
      "cell_type": "code",
      "metadata": {
        "colab": {
          "base_uri": "https://localhost:8080/"
        },
        "id": "SeqPkIZMGf2r",
        "outputId": "66e8f3c2-e4a3-4c8c-fe97-f80b07bcd66e"
      },
      "source": [
        "x = 0\n",
        "for i in range(0,100000):\n",
        "  x = x+(i*(i+1))\n",
        "  if x > 100000:\n",
        "    break\n",
        "print(i-1)"
      ],
      "execution_count": null,
      "outputs": [
        {
          "name": "stdout",
          "output_type": "stream",
          "text": [
            "65\n"
          ]
        }
      ]
    },
    {
      "cell_type": "code",
      "metadata": {
        "colab": {
          "base_uri": "https://localhost:8080/"
        },
        "id": "YCvDxx5qHqsv",
        "outputId": "d4884b3b-e826-4297-e727-245fe30d0549"
      },
      "source": [
        "A = []\n",
        "number = int(input(\"What is your number: \"))\n",
        "for i in range(1,number+1):\n",
        "  if number%i == 0:\n",
        "    A = A + [i]\n",
        "print(A)\n"
      ],
      "execution_count": null,
      "outputs": [
        {
          "name": "stdout",
          "output_type": "stream",
          "text": [
            "What is your number: 6\n",
            "[1, 2, 3, 6]\n"
          ]
        }
      ]
    },
    {
      "cell_type": "code",
      "metadata": {
        "colab": {
          "base_uri": "https://localhost:8080/"
        },
        "id": "okogXji_MCqq",
        "outputId": "4ba78120-49f0-49ba-d186-f91b0f2eae5f"
      },
      "source": [
        "\n",
        "coin = int(input('Coins amount: '))\n",
        "if (coin%3)%4 == 0 or (coin%4)%3 == 0:\n",
        "  x = int(coin/4)\n",
        "  z = int((coin - (x*4))/3)\n",
        "  print('4 baths *',x, '3 baths *',z)\n",
        "else:\n",
        "  print('No way')"
      ],
      "execution_count": null,
      "outputs": [
        {
          "name": "stdout",
          "output_type": "stream",
          "text": [
            "Coins amount: 19\n",
            "4 baths * 4 3 baths * 1\n"
          ]
        }
      ]
    },
    {
      "cell_type": "code",
      "metadata": {
        "colab": {
          "base_uri": "https://localhost:8080/"
        },
        "id": "A-jvh_hAPO_X",
        "outputId": "4bcf3149-cb78-4b9a-df73-257773342bcb"
      },
      "source": [
        "year = (input('What is your year: ')) #remember that it isnt int input but normal input sice we need at as word\n",
        "x = ''\n",
        "dict = {\"1\": \"one\", \"2\": \"two\", \"3\": \"three\", \"4\": \"four\", \"5\": \"five\", \"6\": \"six\", '7': 'seven', '8': 'eight', '9': 'nine', 'zero':'0'}\n",
        "for i in range(0,len(year)):\n",
        "  x = x + dict[year[i]] + ' '\n",
        "print(x)"
      ],
      "execution_count": null,
      "outputs": [
        {
          "name": "stdout",
          "output_type": "stream",
          "text": [
            "What is your year: 2999\n",
            "two nine nine nine \n"
          ]
        }
      ]
    },
    {
      "cell_type": "code",
      "metadata": {
        "colab": {
          "base_uri": "https://localhost:8080/",
          "height": 131
        },
        "id": "uK3Tj3HUfdg3",
        "outputId": "f57ba449-ba24-4789-980e-7dc871581672"
      },
      "source": [
        "def Listsplit[A,n]:"
      ],
      "execution_count": null,
      "outputs": [
        {
          "ename": "SyntaxError",
          "evalue": "ignored",
          "output_type": "error",
          "traceback": [
            "\u001b[0;36m  File \u001b[0;32m\"<ipython-input-167-9255e3d836f0>\"\u001b[0;36m, line \u001b[0;32m1\u001b[0m\n\u001b[0;31m    def Listsplit[A,n]\u001b[0m\n\u001b[0m                 ^\u001b[0m\n\u001b[0;31mSyntaxError\u001b[0m\u001b[0;31m:\u001b[0m invalid syntax\n"
          ]
        }
      ]
    },
    {
      "cell_type": "code",
      "metadata": {
        "id": "THM7N7AIlKU0"
      },
      "source": [
        "def Listsplit(A,n):\n",
        "  x = int(len(A)/n)\n",
        "  z = []\n",
        "  for i in range(0,len(A),x):\n",
        "    z = z + [A[i:i+x]]\n",
        "  return z"
      ],
      "execution_count": null,
      "outputs": []
    },
    {
      "cell_type": "code",
      "metadata": {
        "colab": {
          "base_uri": "https://localhost:8080/"
        },
        "id": "dyIB8Y1YlUkY",
        "outputId": "49e4fa55-9c19-427c-9435-8ba72f869206"
      },
      "source": [
        "#absolute using if\n",
        "x = int(input(\"What is your number: \"))\n",
        "if x < 0:\n",
        "  x = x*(-1)\n",
        "else:\n",
        "  x\n",
        "print(x)"
      ],
      "execution_count": null,
      "outputs": [
        {
          "name": "stdout",
          "output_type": "stream",
          "text": [
            "What is your number: -1\n",
            "1\n"
          ]
        }
      ]
    },
    {
      "cell_type": "code",
      "metadata": {
        "colab": {
          "base_uri": "https://localhost:8080/"
        },
        "id": "e78nFmgmo5rB",
        "outputId": "e21f8e4e-e6b1-463d-83a8-ff4b0bb5c8a5"
      },
      "source": [
        "a = [1, 2, 3, 4]\n",
        "b = [1, 2, 3, 4]\n",
        "c = []\n",
        "carry = 0\n",
        "for i in range(-1,-(len(a)+1),-1):\n",
        "  print(i)"
      ],
      "execution_count": null,
      "outputs": [
        {
          "name": "stdout",
          "output_type": "stream",
          "text": [
            "-1\n",
            "-2\n",
            "-3\n",
            "-4\n"
          ]
        }
      ]
    },
    {
      "cell_type": "code",
      "metadata": {
        "colab": {
          "base_uri": "https://localhost:8080/"
        },
        "id": "SsLawwIuvhE_",
        "outputId": "57f01314-6b8c-4d4e-a1aa-7f1ff5573985"
      },
      "source": [
        "for i in range(-1,-5,-1):\n",
        "  print(i)\n",
        "  A = [1,2,3,4,5]\n",
        "  A[-1]"
      ],
      "execution_count": null,
      "outputs": [
        {
          "name": "stdout",
          "output_type": "stream",
          "text": [
            "-1\n",
            "-2\n",
            "-3\n",
            "-4\n"
          ]
        }
      ]
    },
    {
      "cell_type": "code",
      "metadata": {
        "colab": {
          "base_uri": "https://localhost:8080/"
        },
        "id": "iDGYmpUuvq9D",
        "outputId": "2aeab8b7-09ea-459f-cc4b-20454fccf037"
      },
      "source": [
        ""
      ],
      "execution_count": null,
      "outputs": [
        {
          "data": {
            "text/plain": [
              "1"
            ]
          },
          "execution_count": 196,
          "metadata": {},
          "output_type": "execute_result"
        }
      ]
    },
    {
      "cell_type": "code",
      "metadata": {
        "colab": {
          "base_uri": "https://localhost:8080/"
        },
        "id": "LkBLSm9_v6aI",
        "outputId": "c85ea9df-2a79-42b3-d075-574725c7732e"
      },
      "source": [
        "#binary add\n",
        "a = [0,1,1]\n",
        "b = [1,1,1,1]\n",
        "c = []; carry = 0; x = 0\n",
        "if len(a)>len(b):\n",
        "  mlen = len(a)\n",
        "  z = int(len(a) - len(b))\n",
        "  for i in range(0,z):\n",
        "    b.insert(0,i)\n",
        "else:\n",
        "  mlen = len(b)\n",
        "  z = int(len(b) - len(a))\n",
        "  for i in range(0,z):\n",
        "    a.insert(0,i)\n",
        "for i in range(-1,-mlen-1,-1):\n",
        "  x = a[i] + b[i] + carry\n",
        "  if x >= 2:\n",
        "    carry = 1\n",
        "    x = x - 2\n",
        "  else:\n",
        "    carry = 0\n",
        "  c = [x] + c\n",
        "if carry == 1:\n",
        "  c = [1] + c\n",
        "print(c)"
      ],
      "execution_count": null,
      "outputs": [
        {
          "name": "stdout",
          "output_type": "stream",
          "text": [
            "[1, 0, 0, 1, 0]\n"
          ]
        }
      ]
    },
    {
      "cell_type": "code",
      "metadata": {
        "colab": {
          "base_uri": "https://localhost:8080/"
        },
        "id": "KvQ9A_Qz2yec",
        "outputId": "a526bb31-0a41-419f-f396-4f9d35eaeae2"
      },
      "source": [
        "from google.colab import drive\n",
        "import pandas as pd\n",
        "import os\n",
        "drive.mount('/content/gdrive')\n",
        "os.chdir('/content/gdrive/My Drive/Pandas/')  \n",
        "df_xp = pd.read_excel('ThaiExport.xlsx',sheet_name='Export')\n",
        "df_pn = pd.read_excel('ThaiExport.xlsx',sheet_name='Partner')"
      ],
      "execution_count": null,
      "outputs": [
        {
          "name": "stdout",
          "output_type": "stream",
          "text": [
            "Mounted at /content/gdrive\n"
          ]
        }
      ]
    },
    {
      "cell_type": "code",
      "metadata": {
        "colab": {
          "base_uri": "https://localhost:8080/",
          "height": 423
        },
        "id": "_RnZ-uNGve16",
        "outputId": "1b5c5fa3-8883-465d-9cc5-a6523323b9d9"
      },
      "source": [
        "df_xp"
      ],
      "execution_count": null,
      "outputs": [
        {
          "data": {
            "text/html": [
              "<div>\n",
              "<style scoped>\n",
              "    .dataframe tbody tr th:only-of-type {\n",
              "        vertical-align: middle;\n",
              "    }\n",
              "\n",
              "    .dataframe tbody tr th {\n",
              "        vertical-align: top;\n",
              "    }\n",
              "\n",
              "    .dataframe thead th {\n",
              "        text-align: right;\n",
              "    }\n",
              "</style>\n",
              "<table border=\"1\" class=\"dataframe\">\n",
              "  <thead>\n",
              "    <tr style=\"text-align: right;\">\n",
              "      <th></th>\n",
              "      <th>Year</th>\n",
              "      <th>Trade Flow</th>\n",
              "      <th>Partner ISO</th>\n",
              "      <th>Commodity</th>\n",
              "      <th>Netweight (kg)</th>\n",
              "      <th>Trade Value (US$)</th>\n",
              "    </tr>\n",
              "  </thead>\n",
              "  <tbody>\n",
              "    <tr>\n",
              "      <th>0</th>\n",
              "      <td>2017</td>\n",
              "      <td>Export</td>\n",
              "      <td>WLD</td>\n",
              "      <td>Rice</td>\n",
              "      <td>1.167433e+10</td>\n",
              "      <td>5186570155</td>\n",
              "    </tr>\n",
              "    <tr>\n",
              "      <th>1</th>\n",
              "      <td>2017</td>\n",
              "      <td>Export</td>\n",
              "      <td>ALB</td>\n",
              "      <td>Rice</td>\n",
              "      <td>1.630000e+06</td>\n",
              "      <td>705929</td>\n",
              "    </tr>\n",
              "    <tr>\n",
              "      <th>2</th>\n",
              "      <td>2017</td>\n",
              "      <td>Export</td>\n",
              "      <td>DZA</td>\n",
              "      <td>Rice</td>\n",
              "      <td>4.751785e+07</td>\n",
              "      <td>18337258</td>\n",
              "    </tr>\n",
              "    <tr>\n",
              "      <th>3</th>\n",
              "      <td>2017</td>\n",
              "      <td>Export</td>\n",
              "      <td>AGO</td>\n",
              "      <td>Rice</td>\n",
              "      <td>3.965032e+08</td>\n",
              "      <td>153991156</td>\n",
              "    </tr>\n",
              "    <tr>\n",
              "      <th>4</th>\n",
              "      <td>2017</td>\n",
              "      <td>Export</td>\n",
              "      <td>AZE</td>\n",
              "      <td>Rice</td>\n",
              "      <td>5.000000e+05</td>\n",
              "      <td>183999</td>\n",
              "    </tr>\n",
              "    <tr>\n",
              "      <th>...</th>\n",
              "      <td>...</td>\n",
              "      <td>...</td>\n",
              "      <td>...</td>\n",
              "      <td>...</td>\n",
              "      <td>...</td>\n",
              "      <td>...</td>\n",
              "    </tr>\n",
              "    <tr>\n",
              "      <th>1756</th>\n",
              "      <td>2016</td>\n",
              "      <td>Export</td>\n",
              "      <td>UZB</td>\n",
              "      <td>Rubber</td>\n",
              "      <td>0.000000e+00</td>\n",
              "      <td>48367</td>\n",
              "    </tr>\n",
              "    <tr>\n",
              "      <th>1757</th>\n",
              "      <td>2016</td>\n",
              "      <td>Export</td>\n",
              "      <td>VEN</td>\n",
              "      <td>Rubber</td>\n",
              "      <td>0.000000e+00</td>\n",
              "      <td>6241297</td>\n",
              "    </tr>\n",
              "    <tr>\n",
              "      <th>1758</th>\n",
              "      <td>2016</td>\n",
              "      <td>Export</td>\n",
              "      <td>WSM</td>\n",
              "      <td>Rubber</td>\n",
              "      <td>0.000000e+00</td>\n",
              "      <td>27123</td>\n",
              "    </tr>\n",
              "    <tr>\n",
              "      <th>1759</th>\n",
              "      <td>2016</td>\n",
              "      <td>Export</td>\n",
              "      <td>YEM</td>\n",
              "      <td>Rubber</td>\n",
              "      <td>0.000000e+00</td>\n",
              "      <td>4784153</td>\n",
              "    </tr>\n",
              "    <tr>\n",
              "      <th>1760</th>\n",
              "      <td>2016</td>\n",
              "      <td>Export</td>\n",
              "      <td>ZMB</td>\n",
              "      <td>Rubber</td>\n",
              "      <td>0.000000e+00</td>\n",
              "      <td>32223</td>\n",
              "    </tr>\n",
              "  </tbody>\n",
              "</table>\n",
              "<p>1761 rows × 6 columns</p>\n",
              "</div>"
            ],
            "text/plain": [
              "      Year Trade Flow Partner ISO Commodity  Netweight (kg)  Trade Value (US$)\n",
              "0     2017     Export         WLD      Rice    1.167433e+10         5186570155\n",
              "1     2017     Export         ALB      Rice    1.630000e+06             705929\n",
              "2     2017     Export         DZA      Rice    4.751785e+07           18337258\n",
              "3     2017     Export         AGO      Rice    3.965032e+08          153991156\n",
              "4     2017     Export         AZE      Rice    5.000000e+05             183999\n",
              "...    ...        ...         ...       ...             ...                ...\n",
              "1756  2016     Export         UZB    Rubber    0.000000e+00              48367\n",
              "1757  2016     Export         VEN    Rubber    0.000000e+00            6241297\n",
              "1758  2016     Export         WSM    Rubber    0.000000e+00              27123\n",
              "1759  2016     Export         YEM    Rubber    0.000000e+00            4784153\n",
              "1760  2016     Export         ZMB    Rubber    0.000000e+00              32223\n",
              "\n",
              "[1761 rows x 6 columns]"
            ]
          },
          "execution_count": 4,
          "metadata": {},
          "output_type": "execute_result"
        }
      ]
    },
    {
      "cell_type": "code",
      "metadata": {
        "colab": {
          "base_uri": "https://localhost:8080/",
          "height": 206
        },
        "id": "0LiXZJERxTvT",
        "outputId": "d96f6d72-9ac9-48fe-e6d5-a8014b1ae9f6"
      },
      "source": [
        "df_xp.head()"
      ],
      "execution_count": null,
      "outputs": [
        {
          "data": {
            "text/html": [
              "<div>\n",
              "<style scoped>\n",
              "    .dataframe tbody tr th:only-of-type {\n",
              "        vertical-align: middle;\n",
              "    }\n",
              "\n",
              "    .dataframe tbody tr th {\n",
              "        vertical-align: top;\n",
              "    }\n",
              "\n",
              "    .dataframe thead th {\n",
              "        text-align: right;\n",
              "    }\n",
              "</style>\n",
              "<table border=\"1\" class=\"dataframe\">\n",
              "  <thead>\n",
              "    <tr style=\"text-align: right;\">\n",
              "      <th></th>\n",
              "      <th>Year</th>\n",
              "      <th>Trade Flow</th>\n",
              "      <th>Partner ISO</th>\n",
              "      <th>Commodity</th>\n",
              "      <th>Netweight (kg)</th>\n",
              "      <th>Trade Value (US$)</th>\n",
              "    </tr>\n",
              "  </thead>\n",
              "  <tbody>\n",
              "    <tr>\n",
              "      <th>0</th>\n",
              "      <td>2017</td>\n",
              "      <td>Export</td>\n",
              "      <td>WLD</td>\n",
              "      <td>Rice</td>\n",
              "      <td>1.167433e+10</td>\n",
              "      <td>5186570155</td>\n",
              "    </tr>\n",
              "    <tr>\n",
              "      <th>1</th>\n",
              "      <td>2017</td>\n",
              "      <td>Export</td>\n",
              "      <td>ALB</td>\n",
              "      <td>Rice</td>\n",
              "      <td>1.630000e+06</td>\n",
              "      <td>705929</td>\n",
              "    </tr>\n",
              "    <tr>\n",
              "      <th>2</th>\n",
              "      <td>2017</td>\n",
              "      <td>Export</td>\n",
              "      <td>DZA</td>\n",
              "      <td>Rice</td>\n",
              "      <td>4.751785e+07</td>\n",
              "      <td>18337258</td>\n",
              "    </tr>\n",
              "    <tr>\n",
              "      <th>3</th>\n",
              "      <td>2017</td>\n",
              "      <td>Export</td>\n",
              "      <td>AGO</td>\n",
              "      <td>Rice</td>\n",
              "      <td>3.965032e+08</td>\n",
              "      <td>153991156</td>\n",
              "    </tr>\n",
              "    <tr>\n",
              "      <th>4</th>\n",
              "      <td>2017</td>\n",
              "      <td>Export</td>\n",
              "      <td>AZE</td>\n",
              "      <td>Rice</td>\n",
              "      <td>5.000000e+05</td>\n",
              "      <td>183999</td>\n",
              "    </tr>\n",
              "  </tbody>\n",
              "</table>\n",
              "</div>"
            ],
            "text/plain": [
              "   Year Trade Flow Partner ISO Commodity  Netweight (kg)  Trade Value (US$)\n",
              "0  2017     Export         WLD      Rice    1.167433e+10         5186570155\n",
              "1  2017     Export         ALB      Rice    1.630000e+06             705929\n",
              "2  2017     Export         DZA      Rice    4.751785e+07           18337258\n",
              "3  2017     Export         AGO      Rice    3.965032e+08          153991156\n",
              "4  2017     Export         AZE      Rice    5.000000e+05             183999"
            ]
          },
          "execution_count": 5,
          "metadata": {},
          "output_type": "execute_result"
        }
      ]
    },
    {
      "cell_type": "code",
      "metadata": {
        "colab": {
          "base_uri": "https://localhost:8080/",
          "height": 423
        },
        "id": "hqHk-cYgxe97",
        "outputId": "801b3095-26fb-4194-a38a-e9b0f33daf7f"
      },
      "source": [
        "df_xp = df_xp.sort_values(by=['Partner ISO','Year'])\n",
        "df_xp"
      ],
      "execution_count": null,
      "outputs": [
        {
          "data": {
            "text/html": [
              "<div>\n",
              "<style scoped>\n",
              "    .dataframe tbody tr th:only-of-type {\n",
              "        vertical-align: middle;\n",
              "    }\n",
              "\n",
              "    .dataframe tbody tr th {\n",
              "        vertical-align: top;\n",
              "    }\n",
              "\n",
              "    .dataframe thead th {\n",
              "        text-align: right;\n",
              "    }\n",
              "</style>\n",
              "<table border=\"1\" class=\"dataframe\">\n",
              "  <thead>\n",
              "    <tr style=\"text-align: right;\">\n",
              "      <th></th>\n",
              "      <th>Year</th>\n",
              "      <th>Trade Flow</th>\n",
              "      <th>Partner ISO</th>\n",
              "      <th>Commodity</th>\n",
              "      <th>Netweight (kg)</th>\n",
              "      <th>Trade Value (US$)</th>\n",
              "    </tr>\n",
              "  </thead>\n",
              "  <tbody>\n",
              "    <tr>\n",
              "      <th>1506</th>\n",
              "      <td>2016</td>\n",
              "      <td>Export</td>\n",
              "      <td>ABW</td>\n",
              "      <td>Rice</td>\n",
              "      <td>73550.0</td>\n",
              "      <td>58523</td>\n",
              "    </tr>\n",
              "    <tr>\n",
              "      <th>1689</th>\n",
              "      <td>2016</td>\n",
              "      <td>Export</td>\n",
              "      <td>ABW</td>\n",
              "      <td>Rubber</td>\n",
              "      <td>0.0</td>\n",
              "      <td>312</td>\n",
              "    </tr>\n",
              "    <tr>\n",
              "      <th>97</th>\n",
              "      <td>2017</td>\n",
              "      <td>Export</td>\n",
              "      <td>ABW</td>\n",
              "      <td>Rice</td>\n",
              "      <td>95261.0</td>\n",
              "      <td>73765</td>\n",
              "    </tr>\n",
              "    <tr>\n",
              "      <th>742</th>\n",
              "      <td>2017</td>\n",
              "      <td>Export</td>\n",
              "      <td>ABW</td>\n",
              "      <td>Rubber</td>\n",
              "      <td>0.0</td>\n",
              "      <td>688</td>\n",
              "    </tr>\n",
              "    <tr>\n",
              "      <th>255</th>\n",
              "      <td>2018</td>\n",
              "      <td>Export</td>\n",
              "      <td>ABW</td>\n",
              "      <td>Rice</td>\n",
              "      <td>48980.0</td>\n",
              "      <td>61973</td>\n",
              "    </tr>\n",
              "    <tr>\n",
              "      <th>...</th>\n",
              "      <td>...</td>\n",
              "      <td>...</td>\n",
              "      <td>...</td>\n",
              "      <td>...</td>\n",
              "      <td>...</td>\n",
              "      <td>...</td>\n",
              "    </tr>\n",
              "    <tr>\n",
              "      <th>980</th>\n",
              "      <td>2018</td>\n",
              "      <td>Export</td>\n",
              "      <td>ZWE</td>\n",
              "      <td>Rubber</td>\n",
              "      <td>0.0</td>\n",
              "      <td>1830385</td>\n",
              "    </tr>\n",
              "    <tr>\n",
              "      <th>441</th>\n",
              "      <td>2019</td>\n",
              "      <td>Export</td>\n",
              "      <td>ZWE</td>\n",
              "      <td>Rice</td>\n",
              "      <td>5092184.0</td>\n",
              "      <td>2074600</td>\n",
              "    </tr>\n",
              "    <tr>\n",
              "      <th>1177</th>\n",
              "      <td>2019</td>\n",
              "      <td>Export</td>\n",
              "      <td>ZWE</td>\n",
              "      <td>Rubber</td>\n",
              "      <td>0.0</td>\n",
              "      <td>3567589</td>\n",
              "    </tr>\n",
              "    <tr>\n",
              "      <th>594</th>\n",
              "      <td>2020</td>\n",
              "      <td>Export</td>\n",
              "      <td>ZWE</td>\n",
              "      <td>Rice</td>\n",
              "      <td>22984000.0</td>\n",
              "      <td>11124204</td>\n",
              "    </tr>\n",
              "    <tr>\n",
              "      <th>1375</th>\n",
              "      <td>2020</td>\n",
              "      <td>Export</td>\n",
              "      <td>ZWE</td>\n",
              "      <td>Rubber</td>\n",
              "      <td>0.0</td>\n",
              "      <td>1368842</td>\n",
              "    </tr>\n",
              "  </tbody>\n",
              "</table>\n",
              "<p>1761 rows × 6 columns</p>\n",
              "</div>"
            ],
            "text/plain": [
              "      Year Trade Flow Partner ISO Commodity  Netweight (kg)  Trade Value (US$)\n",
              "1506  2016     Export         ABW      Rice         73550.0              58523\n",
              "1689  2016     Export         ABW    Rubber             0.0                312\n",
              "97    2017     Export         ABW      Rice         95261.0              73765\n",
              "742   2017     Export         ABW    Rubber             0.0                688\n",
              "255   2018     Export         ABW      Rice         48980.0              61973\n",
              "...    ...        ...         ...       ...             ...                ...\n",
              "980   2018     Export         ZWE    Rubber             0.0            1830385\n",
              "441   2019     Export         ZWE      Rice       5092184.0            2074600\n",
              "1177  2019     Export         ZWE    Rubber             0.0            3567589\n",
              "594   2020     Export         ZWE      Rice      22984000.0           11124204\n",
              "1375  2020     Export         ZWE    Rubber             0.0            1368842\n",
              "\n",
              "[1761 rows x 6 columns]"
            ]
          },
          "execution_count": 9,
          "metadata": {},
          "output_type": "execute_result"
        }
      ]
    },
    {
      "cell_type": "code",
      "metadata": {
        "id": "SyHVBGXvyDpe"
      },
      "source": [
        "#can drop rename and create new columns\n"
      ],
      "execution_count": null,
      "outputs": []
    },
    {
      "cell_type": "markdown",
      "metadata": {
        "id": "JefFlvICzxYi"
      },
      "source": [
        ""
      ]
    },
    {
      "cell_type": "code",
      "metadata": {
        "id": "nzCCDzFazlYP"
      },
      "source": [
        "df_xp = df_xp.rename(columns = {'Commodity':'Good','Partner ISO':'Dest','Netweight (kg)':'Weight','Trade Value (US$)':'Value'})"
      ],
      "execution_count": null,
      "outputs": []
    },
    {
      "cell_type": "code",
      "metadata": {
        "colab": {
          "base_uri": "https://localhost:8080/",
          "height": 362
        },
        "id": "9NytLfxLy3Ld",
        "outputId": "3ea76aa2-4772-446c-8b94-679632c1c66e"
      },
      "source": [
        "#filter\n",
        "df_japan = df_xp[df_xp['Dest']=='JPN']\n",
        "df_japan"
      ],
      "execution_count": null,
      "outputs": [
        {
          "data": {
            "text/html": [
              "<div>\n",
              "<style scoped>\n",
              "    .dataframe tbody tr th:only-of-type {\n",
              "        vertical-align: middle;\n",
              "    }\n",
              "\n",
              "    .dataframe tbody tr th {\n",
              "        vertical-align: top;\n",
              "    }\n",
              "\n",
              "    .dataframe thead th {\n",
              "        text-align: right;\n",
              "    }\n",
              "</style>\n",
              "<table border=\"1\" class=\"dataframe\">\n",
              "  <thead>\n",
              "    <tr style=\"text-align: right;\">\n",
              "      <th></th>\n",
              "      <th>Year</th>\n",
              "      <th>Trade Flow</th>\n",
              "      <th>Dest</th>\n",
              "      <th>Good</th>\n",
              "      <th>Weight</th>\n",
              "      <th>Value</th>\n",
              "    </tr>\n",
              "  </thead>\n",
              "  <tbody>\n",
              "    <tr>\n",
              "      <th>1475</th>\n",
              "      <td>2016</td>\n",
              "      <td>Export</td>\n",
              "      <td>JPN</td>\n",
              "      <td>Rice</td>\n",
              "      <td>332436233.0</td>\n",
              "      <td>127140290</td>\n",
              "    </tr>\n",
              "    <tr>\n",
              "      <th>1653</th>\n",
              "      <td>2016</td>\n",
              "      <td>Export</td>\n",
              "      <td>JPN</td>\n",
              "      <td>Rubber</td>\n",
              "      <td>0.0</td>\n",
              "      <td>744926932</td>\n",
              "    </tr>\n",
              "    <tr>\n",
              "      <th>68</th>\n",
              "      <td>2017</td>\n",
              "      <td>Export</td>\n",
              "      <td>JPN</td>\n",
              "      <td>Rice</td>\n",
              "      <td>347465621.0</td>\n",
              "      <td>131242561</td>\n",
              "    </tr>\n",
              "    <tr>\n",
              "      <th>706</th>\n",
              "      <td>2017</td>\n",
              "      <td>Export</td>\n",
              "      <td>JPN</td>\n",
              "      <td>Rubber</td>\n",
              "      <td>0.0</td>\n",
              "      <td>942555626</td>\n",
              "    </tr>\n",
              "    <tr>\n",
              "      <th>225</th>\n",
              "      <td>2018</td>\n",
              "      <td>Export</td>\n",
              "      <td>JPN</td>\n",
              "      <td>Rice</td>\n",
              "      <td>222511316.0</td>\n",
              "      <td>93634794</td>\n",
              "    </tr>\n",
              "    <tr>\n",
              "      <th>902</th>\n",
              "      <td>2018</td>\n",
              "      <td>Export</td>\n",
              "      <td>JPN</td>\n",
              "      <td>Rubber</td>\n",
              "      <td>0.0</td>\n",
              "      <td>840054490</td>\n",
              "    </tr>\n",
              "    <tr>\n",
              "      <th>382</th>\n",
              "      <td>2019</td>\n",
              "      <td>Export</td>\n",
              "      <td>JPN</td>\n",
              "      <td>Rice</td>\n",
              "      <td>190388091.0</td>\n",
              "      <td>111395852</td>\n",
              "    </tr>\n",
              "    <tr>\n",
              "      <th>1100</th>\n",
              "      <td>2019</td>\n",
              "      <td>Export</td>\n",
              "      <td>JPN</td>\n",
              "      <td>Rubber</td>\n",
              "      <td>0.0</td>\n",
              "      <td>829911793</td>\n",
              "    </tr>\n",
              "    <tr>\n",
              "      <th>534</th>\n",
              "      <td>2020</td>\n",
              "      <td>Export</td>\n",
              "      <td>JPN</td>\n",
              "      <td>Rice</td>\n",
              "      <td>258677427.0</td>\n",
              "      <td>116705291</td>\n",
              "    </tr>\n",
              "    <tr>\n",
              "      <th>1300</th>\n",
              "      <td>2020</td>\n",
              "      <td>Export</td>\n",
              "      <td>JPN</td>\n",
              "      <td>Rubber</td>\n",
              "      <td>0.0</td>\n",
              "      <td>787937766</td>\n",
              "    </tr>\n",
              "  </tbody>\n",
              "</table>\n",
              "</div>"
            ],
            "text/plain": [
              "      Year Trade Flow Dest    Good       Weight      Value\n",
              "1475  2016     Export  JPN    Rice  332436233.0  127140290\n",
              "1653  2016     Export  JPN  Rubber          0.0  744926932\n",
              "68    2017     Export  JPN    Rice  347465621.0  131242561\n",
              "706   2017     Export  JPN  Rubber          0.0  942555626\n",
              "225   2018     Export  JPN    Rice  222511316.0   93634794\n",
              "902   2018     Export  JPN  Rubber          0.0  840054490\n",
              "382   2019     Export  JPN    Rice  190388091.0  111395852\n",
              "1100  2019     Export  JPN  Rubber          0.0  829911793\n",
              "534   2020     Export  JPN    Rice  258677427.0  116705291\n",
              "1300  2020     Export  JPN  Rubber          0.0  787937766"
            ]
          },
          "execution_count": 18,
          "metadata": {},
          "output_type": "execute_result"
        }
      ]
    },
    {
      "cell_type": "code",
      "metadata": {
        "colab": {
          "base_uri": "https://localhost:8080/",
          "height": 112
        },
        "id": "-vDSE9yk1am0",
        "outputId": "5e40685c-c364-4ffe-c45f-21d47f768939"
      },
      "source": [
        "df_japan17 = df_japan[df_japan['Year']==2017]\n",
        "df_japan17\n"
      ],
      "execution_count": null,
      "outputs": [
        {
          "data": {
            "text/html": [
              "<div>\n",
              "<style scoped>\n",
              "    .dataframe tbody tr th:only-of-type {\n",
              "        vertical-align: middle;\n",
              "    }\n",
              "\n",
              "    .dataframe tbody tr th {\n",
              "        vertical-align: top;\n",
              "    }\n",
              "\n",
              "    .dataframe thead th {\n",
              "        text-align: right;\n",
              "    }\n",
              "</style>\n",
              "<table border=\"1\" class=\"dataframe\">\n",
              "  <thead>\n",
              "    <tr style=\"text-align: right;\">\n",
              "      <th></th>\n",
              "      <th>Year</th>\n",
              "      <th>Trade Flow</th>\n",
              "      <th>Dest</th>\n",
              "      <th>Good</th>\n",
              "      <th>Weight</th>\n",
              "      <th>Value</th>\n",
              "    </tr>\n",
              "  </thead>\n",
              "  <tbody>\n",
              "    <tr>\n",
              "      <th>68</th>\n",
              "      <td>2017</td>\n",
              "      <td>Export</td>\n",
              "      <td>JPN</td>\n",
              "      <td>Rice</td>\n",
              "      <td>347465621.0</td>\n",
              "      <td>131242561</td>\n",
              "    </tr>\n",
              "    <tr>\n",
              "      <th>706</th>\n",
              "      <td>2017</td>\n",
              "      <td>Export</td>\n",
              "      <td>JPN</td>\n",
              "      <td>Rubber</td>\n",
              "      <td>0.0</td>\n",
              "      <td>942555626</td>\n",
              "    </tr>\n",
              "  </tbody>\n",
              "</table>\n",
              "</div>"
            ],
            "text/plain": [
              "     Year Trade Flow Dest    Good       Weight      Value\n",
              "68   2017     Export  JPN    Rice  347465621.0  131242561\n",
              "706  2017     Export  JPN  Rubber          0.0  942555626"
            ]
          },
          "execution_count": 19,
          "metadata": {},
          "output_type": "execute_result"
        }
      ]
    },
    {
      "cell_type": "code",
      "metadata": {
        "colab": {
          "base_uri": "https://localhost:8080/",
          "height": 81
        },
        "id": "xHbTXMP21bFd",
        "outputId": "af4001c9-a9a8-4116-b82c-accc7645d411"
      },
      "source": [
        "df_japan17Rice = df_japan17[df_japan17['Good']=='Rice']\n",
        "df_japan17Rice"
      ],
      "execution_count": null,
      "outputs": [
        {
          "data": {
            "text/html": [
              "<div>\n",
              "<style scoped>\n",
              "    .dataframe tbody tr th:only-of-type {\n",
              "        vertical-align: middle;\n",
              "    }\n",
              "\n",
              "    .dataframe tbody tr th {\n",
              "        vertical-align: top;\n",
              "    }\n",
              "\n",
              "    .dataframe thead th {\n",
              "        text-align: right;\n",
              "    }\n",
              "</style>\n",
              "<table border=\"1\" class=\"dataframe\">\n",
              "  <thead>\n",
              "    <tr style=\"text-align: right;\">\n",
              "      <th></th>\n",
              "      <th>Year</th>\n",
              "      <th>Trade Flow</th>\n",
              "      <th>Dest</th>\n",
              "      <th>Good</th>\n",
              "      <th>Weight</th>\n",
              "      <th>Value</th>\n",
              "    </tr>\n",
              "  </thead>\n",
              "  <tbody>\n",
              "    <tr>\n",
              "      <th>68</th>\n",
              "      <td>2017</td>\n",
              "      <td>Export</td>\n",
              "      <td>JPN</td>\n",
              "      <td>Rice</td>\n",
              "      <td>347465621.0</td>\n",
              "      <td>131242561</td>\n",
              "    </tr>\n",
              "  </tbody>\n",
              "</table>\n",
              "</div>"
            ],
            "text/plain": [
              "    Year Trade Flow Dest  Good       Weight      Value\n",
              "68  2017     Export  JPN  Rice  347465621.0  131242561"
            ]
          },
          "execution_count": 21,
          "metadata": {},
          "output_type": "execute_result"
        }
      ]
    },
    {
      "cell_type": "code",
      "metadata": {
        "colab": {
          "base_uri": "https://localhost:8080/",
          "height": 175
        },
        "id": "0rhJTq0b11_D",
        "outputId": "cbab3d98-a38f-4def-a457-f3b57d01f136"
      },
      "source": [
        "df_japan17_19 = df_japan[(df_japan['Year']==2017) | (df_japan['Year']==2019)]   #|  = or\n",
        "df_japan17_19"
      ],
      "execution_count": null,
      "outputs": [
        {
          "data": {
            "text/html": [
              "<div>\n",
              "<style scoped>\n",
              "    .dataframe tbody tr th:only-of-type {\n",
              "        vertical-align: middle;\n",
              "    }\n",
              "\n",
              "    .dataframe tbody tr th {\n",
              "        vertical-align: top;\n",
              "    }\n",
              "\n",
              "    .dataframe thead th {\n",
              "        text-align: right;\n",
              "    }\n",
              "</style>\n",
              "<table border=\"1\" class=\"dataframe\">\n",
              "  <thead>\n",
              "    <tr style=\"text-align: right;\">\n",
              "      <th></th>\n",
              "      <th>Year</th>\n",
              "      <th>Trade Flow</th>\n",
              "      <th>Dest</th>\n",
              "      <th>Good</th>\n",
              "      <th>Weight</th>\n",
              "      <th>Value</th>\n",
              "    </tr>\n",
              "  </thead>\n",
              "  <tbody>\n",
              "    <tr>\n",
              "      <th>68</th>\n",
              "      <td>2017</td>\n",
              "      <td>Export</td>\n",
              "      <td>JPN</td>\n",
              "      <td>Rice</td>\n",
              "      <td>347465621.0</td>\n",
              "      <td>131242561</td>\n",
              "    </tr>\n",
              "    <tr>\n",
              "      <th>706</th>\n",
              "      <td>2017</td>\n",
              "      <td>Export</td>\n",
              "      <td>JPN</td>\n",
              "      <td>Rubber</td>\n",
              "      <td>0.0</td>\n",
              "      <td>942555626</td>\n",
              "    </tr>\n",
              "    <tr>\n",
              "      <th>382</th>\n",
              "      <td>2019</td>\n",
              "      <td>Export</td>\n",
              "      <td>JPN</td>\n",
              "      <td>Rice</td>\n",
              "      <td>190388091.0</td>\n",
              "      <td>111395852</td>\n",
              "    </tr>\n",
              "    <tr>\n",
              "      <th>1100</th>\n",
              "      <td>2019</td>\n",
              "      <td>Export</td>\n",
              "      <td>JPN</td>\n",
              "      <td>Rubber</td>\n",
              "      <td>0.0</td>\n",
              "      <td>829911793</td>\n",
              "    </tr>\n",
              "  </tbody>\n",
              "</table>\n",
              "</div>"
            ],
            "text/plain": [
              "      Year Trade Flow Dest    Good       Weight      Value\n",
              "68    2017     Export  JPN    Rice  347465621.0  131242561\n",
              "706   2017     Export  JPN  Rubber          0.0  942555626\n",
              "382   2019     Export  JPN    Rice  190388091.0  111395852\n",
              "1100  2019     Export  JPN  Rubber          0.0  829911793"
            ]
          },
          "execution_count": 22,
          "metadata": {},
          "output_type": "execute_result"
        }
      ]
    },
    {
      "cell_type": "code",
      "metadata": {
        "colab": {
          "base_uri": "https://localhost:8080/",
          "height": 423
        },
        "id": "Zq0vH9ay2Wlv",
        "outputId": "e25a4c9d-fdcf-451c-9a70-bc725150b8d2"
      },
      "source": [
        "df_xp"
      ],
      "execution_count": null,
      "outputs": [
        {
          "data": {
            "text/html": [
              "<div>\n",
              "<style scoped>\n",
              "    .dataframe tbody tr th:only-of-type {\n",
              "        vertical-align: middle;\n",
              "    }\n",
              "\n",
              "    .dataframe tbody tr th {\n",
              "        vertical-align: top;\n",
              "    }\n",
              "\n",
              "    .dataframe thead th {\n",
              "        text-align: right;\n",
              "    }\n",
              "</style>\n",
              "<table border=\"1\" class=\"dataframe\">\n",
              "  <thead>\n",
              "    <tr style=\"text-align: right;\">\n",
              "      <th></th>\n",
              "      <th>Year</th>\n",
              "      <th>Trade Flow</th>\n",
              "      <th>Dest</th>\n",
              "      <th>Good</th>\n",
              "      <th>Weight</th>\n",
              "      <th>Value</th>\n",
              "    </tr>\n",
              "  </thead>\n",
              "  <tbody>\n",
              "    <tr>\n",
              "      <th>1506</th>\n",
              "      <td>2016</td>\n",
              "      <td>Export</td>\n",
              "      <td>ABW</td>\n",
              "      <td>Rice</td>\n",
              "      <td>73550.0</td>\n",
              "      <td>58523</td>\n",
              "    </tr>\n",
              "    <tr>\n",
              "      <th>1689</th>\n",
              "      <td>2016</td>\n",
              "      <td>Export</td>\n",
              "      <td>ABW</td>\n",
              "      <td>Rubber</td>\n",
              "      <td>0.0</td>\n",
              "      <td>312</td>\n",
              "    </tr>\n",
              "    <tr>\n",
              "      <th>97</th>\n",
              "      <td>2017</td>\n",
              "      <td>Export</td>\n",
              "      <td>ABW</td>\n",
              "      <td>Rice</td>\n",
              "      <td>95261.0</td>\n",
              "      <td>73765</td>\n",
              "    </tr>\n",
              "    <tr>\n",
              "      <th>742</th>\n",
              "      <td>2017</td>\n",
              "      <td>Export</td>\n",
              "      <td>ABW</td>\n",
              "      <td>Rubber</td>\n",
              "      <td>0.0</td>\n",
              "      <td>688</td>\n",
              "    </tr>\n",
              "    <tr>\n",
              "      <th>255</th>\n",
              "      <td>2018</td>\n",
              "      <td>Export</td>\n",
              "      <td>ABW</td>\n",
              "      <td>Rice</td>\n",
              "      <td>48980.0</td>\n",
              "      <td>61973</td>\n",
              "    </tr>\n",
              "    <tr>\n",
              "      <th>...</th>\n",
              "      <td>...</td>\n",
              "      <td>...</td>\n",
              "      <td>...</td>\n",
              "      <td>...</td>\n",
              "      <td>...</td>\n",
              "      <td>...</td>\n",
              "    </tr>\n",
              "    <tr>\n",
              "      <th>980</th>\n",
              "      <td>2018</td>\n",
              "      <td>Export</td>\n",
              "      <td>ZWE</td>\n",
              "      <td>Rubber</td>\n",
              "      <td>0.0</td>\n",
              "      <td>1830385</td>\n",
              "    </tr>\n",
              "    <tr>\n",
              "      <th>441</th>\n",
              "      <td>2019</td>\n",
              "      <td>Export</td>\n",
              "      <td>ZWE</td>\n",
              "      <td>Rice</td>\n",
              "      <td>5092184.0</td>\n",
              "      <td>2074600</td>\n",
              "    </tr>\n",
              "    <tr>\n",
              "      <th>1177</th>\n",
              "      <td>2019</td>\n",
              "      <td>Export</td>\n",
              "      <td>ZWE</td>\n",
              "      <td>Rubber</td>\n",
              "      <td>0.0</td>\n",
              "      <td>3567589</td>\n",
              "    </tr>\n",
              "    <tr>\n",
              "      <th>594</th>\n",
              "      <td>2020</td>\n",
              "      <td>Export</td>\n",
              "      <td>ZWE</td>\n",
              "      <td>Rice</td>\n",
              "      <td>22984000.0</td>\n",
              "      <td>11124204</td>\n",
              "    </tr>\n",
              "    <tr>\n",
              "      <th>1375</th>\n",
              "      <td>2020</td>\n",
              "      <td>Export</td>\n",
              "      <td>ZWE</td>\n",
              "      <td>Rubber</td>\n",
              "      <td>0.0</td>\n",
              "      <td>1368842</td>\n",
              "    </tr>\n",
              "  </tbody>\n",
              "</table>\n",
              "<p>1761 rows × 6 columns</p>\n",
              "</div>"
            ],
            "text/plain": [
              "      Year Trade Flow Dest    Good      Weight     Value\n",
              "1506  2016     Export  ABW    Rice     73550.0     58523\n",
              "1689  2016     Export  ABW  Rubber         0.0       312\n",
              "97    2017     Export  ABW    Rice     95261.0     73765\n",
              "742   2017     Export  ABW  Rubber         0.0       688\n",
              "255   2018     Export  ABW    Rice     48980.0     61973\n",
              "...    ...        ...  ...     ...         ...       ...\n",
              "980   2018     Export  ZWE  Rubber         0.0   1830385\n",
              "441   2019     Export  ZWE    Rice   5092184.0   2074600\n",
              "1177  2019     Export  ZWE  Rubber         0.0   3567589\n",
              "594   2020     Export  ZWE    Rice  22984000.0  11124204\n",
              "1375  2020     Export  ZWE  Rubber         0.0   1368842\n",
              "\n",
              "[1761 rows x 6 columns]"
            ]
          },
          "execution_count": 23,
          "metadata": {},
          "output_type": "execute_result"
        }
      ]
    },
    {
      "cell_type": "code",
      "metadata": {
        "colab": {
          "base_uri": "https://localhost:8080/",
          "height": 81
        },
        "id": "s4cI4D36EPOX",
        "outputId": "ca3b3353-309a-4f28-ae1b-214e8de34d06"
      },
      "source": [
        "df_xp.head(1)"
      ],
      "execution_count": null,
      "outputs": [
        {
          "data": {
            "text/html": [
              "<div>\n",
              "<style scoped>\n",
              "    .dataframe tbody tr th:only-of-type {\n",
              "        vertical-align: middle;\n",
              "    }\n",
              "\n",
              "    .dataframe tbody tr th {\n",
              "        vertical-align: top;\n",
              "    }\n",
              "\n",
              "    .dataframe thead th {\n",
              "        text-align: right;\n",
              "    }\n",
              "</style>\n",
              "<table border=\"1\" class=\"dataframe\">\n",
              "  <thead>\n",
              "    <tr style=\"text-align: right;\">\n",
              "      <th></th>\n",
              "      <th>Year</th>\n",
              "      <th>Trade Flow</th>\n",
              "      <th>Dest</th>\n",
              "      <th>Good</th>\n",
              "      <th>Weight</th>\n",
              "      <th>Value</th>\n",
              "    </tr>\n",
              "  </thead>\n",
              "  <tbody>\n",
              "    <tr>\n",
              "      <th>1506</th>\n",
              "      <td>2016</td>\n",
              "      <td>Export</td>\n",
              "      <td>ABW</td>\n",
              "      <td>Rice</td>\n",
              "      <td>73550.0</td>\n",
              "      <td>58523</td>\n",
              "    </tr>\n",
              "  </tbody>\n",
              "</table>\n",
              "</div>"
            ],
            "text/plain": [
              "      Year Trade Flow Dest  Good   Weight  Value\n",
              "1506  2016     Export  ABW  Rice  73550.0  58523"
            ]
          },
          "execution_count": 24,
          "metadata": {},
          "output_type": "execute_result"
        }
      ]
    },
    {
      "cell_type": "code",
      "metadata": {
        "colab": {
          "base_uri": "https://localhost:8080/",
          "height": 81
        },
        "id": "SIwoxph9FEl6",
        "outputId": "7a08a751-ab67-4516-81d9-f7d87a028a26"
      },
      "source": [
        "df_pn.head(1)"
      ],
      "execution_count": null,
      "outputs": [
        {
          "data": {
            "text/html": [
              "<div>\n",
              "<style scoped>\n",
              "    .dataframe tbody tr th:only-of-type {\n",
              "        vertical-align: middle;\n",
              "    }\n",
              "\n",
              "    .dataframe tbody tr th {\n",
              "        vertical-align: top;\n",
              "    }\n",
              "\n",
              "    .dataframe thead th {\n",
              "        text-align: right;\n",
              "    }\n",
              "</style>\n",
              "<table border=\"1\" class=\"dataframe\">\n",
              "  <thead>\n",
              "    <tr style=\"text-align: right;\">\n",
              "      <th></th>\n",
              "      <th>Partner</th>\n",
              "      <th>Partner ISO</th>\n",
              "    </tr>\n",
              "  </thead>\n",
              "  <tbody>\n",
              "    <tr>\n",
              "      <th>0</th>\n",
              "      <td>World</td>\n",
              "      <td>WLD</td>\n",
              "    </tr>\n",
              "  </tbody>\n",
              "</table>\n",
              "</div>"
            ],
            "text/plain": [
              "  Partner Partner ISO\n",
              "0   World         WLD"
            ]
          },
          "execution_count": 25,
          "metadata": {},
          "output_type": "execute_result"
        }
      ]
    },
    {
      "cell_type": "code",
      "metadata": {
        "colab": {
          "base_uri": "https://localhost:8080/",
          "height": 190
        },
        "id": "sI-p8cS4FYBA",
        "outputId": "e8e8605c-9fe4-4e65-928c-6b87d3ab368f"
      },
      "source": [
        "df_merge = df_xp.merge(df_pn,left_on='Dest',right_on='Partner ISO')\n",
        "df_merge"
      ],
      "execution_count": null,
      "outputs": [
        {
          "ename": "NameError",
          "evalue": "ignored",
          "output_type": "error",
          "traceback": [
            "\u001b[0;31m---------------------------------------------------------------------------\u001b[0m",
            "\u001b[0;31mNameError\u001b[0m                                 Traceback (most recent call last)",
            "\u001b[0;32m<ipython-input-1-4bf74393bed4>\u001b[0m in \u001b[0;36m<module>\u001b[0;34m()\u001b[0m\n\u001b[0;32m----> 1\u001b[0;31m \u001b[0mdf_merge\u001b[0m \u001b[0;34m=\u001b[0m \u001b[0mdf_xp\u001b[0m\u001b[0;34m.\u001b[0m\u001b[0mmerge\u001b[0m\u001b[0;34m(\u001b[0m\u001b[0mdf_pn\u001b[0m\u001b[0;34m,\u001b[0m\u001b[0mleft_on\u001b[0m\u001b[0;34m=\u001b[0m\u001b[0;34m'Dest'\u001b[0m\u001b[0;34m,\u001b[0m\u001b[0mright_on\u001b[0m\u001b[0;34m=\u001b[0m\u001b[0;34m'Partner ISO'\u001b[0m\u001b[0;34m)\u001b[0m\u001b[0;34m\u001b[0m\u001b[0;34m\u001b[0m\u001b[0m\n\u001b[0m\u001b[1;32m      2\u001b[0m \u001b[0mdf_merge\u001b[0m\u001b[0;34m\u001b[0m\u001b[0;34m\u001b[0m\u001b[0m\n",
            "\u001b[0;31mNameError\u001b[0m: name 'df_xp' is not defined"
          ]
        }
      ]
    },
    {
      "cell_type": "code",
      "metadata": {
        "id": "kDUa7C7M1fad"
      },
      "source": [
        "change = int(input('What is your change: ')); a = []; b = 0\n"
      ],
      "execution_count": null,
      "outputs": []
    },
    {
      "cell_type": "code",
      "metadata": {
        "colab": {
          "base_uri": "https://localhost:8080/"
        },
        "id": "JKjG1GY05K7I",
        "outputId": "b57298b9-1a23-4ff0-e619-7f926767c77a"
      },
      "source": [
        "def coinchange(banknote, totalchange):\n",
        "  change = {}\n",
        "  remain = totalchange\n",
        "  for i in banknote:\n",
        "    change[i] = int(remain/i) #This is adding to dictionary\n",
        "    remain = remain - change[i]*i\n",
        "  return change\n",
        "\n",
        "\n",
        "banknotes = [100, 50, 20, 1]\n",
        "coinchange(banknotes,777)"
      ],
      "execution_count": null,
      "outputs": [
        {
          "data": {
            "text/plain": [
              "{1: 7, 20: 1, 50: 1, 100: 7}"
            ]
          },
          "execution_count": 12,
          "metadata": {},
          "output_type": "execute_result"
        }
      ]
    },
    {
      "cell_type": "markdown",
      "metadata": {
        "id": "kW4XyWIR4pdn"
      },
      "source": [
        ""
      ]
    },
    {
      "cell_type": "code",
      "metadata": {
        "colab": {
          "base_uri": "https://localhost:8080/"
        },
        "id": "uaBcAYb98Reb",
        "outputId": "ec322814-6b1b-4e60-d00e-90933198bdbf"
      },
      "source": [
        "A = [100, 50, 20, 1]\n",
        "b = {}\n",
        "b[100] = int(500)\n",
        "b[100] #This become the definition of the 100 which is 500\n"
      ],
      "execution_count": null,
      "outputs": [
        {
          "data": {
            "text/plain": [
              "500"
            ]
          },
          "execution_count": 24,
          "metadata": {},
          "output_type": "execute_result"
        }
      ]
    },
    {
      "cell_type": "code",
      "metadata": {
        "colab": {
          "base_uri": "https://localhost:8080/"
        },
        "id": "aaSTlPzH8Ypr",
        "outputId": "98f6d32b-c218-49ff-9dca-556aa98af027"
      },
      "source": [
        "x = '123' #must be in string\n",
        "for i in x:\n",
        "  print(i)"
      ],
      "execution_count": null,
      "outputs": [
        {
          "name": "stdout",
          "output_type": "stream",
          "text": [
            "1\n",
            "2\n",
            "3\n"
          ]
        }
      ]
    },
    {
      "cell_type": "code",
      "metadata": {
        "colab": {
          "base_uri": "https://localhost:8080/",
          "height": 135
        },
        "id": "OpATgPd1axv4",
        "outputId": "b47f3b32-9eab-4843-b2a6-f3ac5b3c074b"
      },
      "source": [
        "A = []\n",
        "x = []\n",
        "for i in range(100,1000):\n",
        "  x = x + [i]\n",
        "  print(x)\n",
        "  for b in x:\n",
        "    z = z + (int(i)**3)\n",
        "    if x == z:\n",
        "      A = A + [x]\n"
      ],
      "execution_count": null,
      "outputs": [
        {
          "ename": "IndentationError",
          "evalue": "ignored",
          "output_type": "error",
          "traceback": [
            "\u001b[0;36m  File \u001b[0;32m\"<ipython-input-61-0603c4422828>\"\u001b[0;36m, line \u001b[0;32m6\u001b[0m\n\u001b[0;31m    for b in x:\u001b[0m\n\u001b[0m    ^\u001b[0m\n\u001b[0;31mIndentationError\u001b[0m\u001b[0;31m:\u001b[0m unexpected indent\n"
          ]
        }
      ]
    },
    {
      "cell_type": "code",
      "metadata": {
        "colab": {
          "base_uri": "https://localhost:8080/"
        },
        "id": "E_Ya59g-bmbc",
        "outputId": "6adb60e3-bfe1-4937-b963-8e9bd2db8475"
      },
      "source": [
        "A = []\n",
        "A = A + [2]\n",
        "print(A)"
      ],
      "execution_count": null,
      "outputs": [
        {
          "name": "stdout",
          "output_type": "stream",
          "text": [
            "[2]\n"
          ]
        }
      ]
    },
    {
      "cell_type": "code",
      "metadata": {
        "colab": {
          "base_uri": "https://localhost:8080/",
          "height": 135
        },
        "id": "0WMuZu5Ge-5x",
        "outputId": "ce501a69-47c4-4963-fc1a-5cc01dd05525"
      },
      "source": [
        "A = []\n",
        "x = []\n",
        "for i in range(100,1000):\n",
        "  x = x + [i]\n",
        "print(x)\n",
        "  for b in x:\n",
        "    \n",
        "    \n"
      ],
      "execution_count": null,
      "outputs": [
        {
          "ename": "IndentationError",
          "evalue": "ignored",
          "output_type": "error",
          "traceback": [
            "\u001b[0;36m  File \u001b[0;32m\"<ipython-input-69-8db07704492f>\"\u001b[0;36m, line \u001b[0;32m6\u001b[0m\n\u001b[0;31m    for b in x:\u001b[0m\n\u001b[0m    ^\u001b[0m\n\u001b[0;31mIndentationError\u001b[0m\u001b[0;31m:\u001b[0m unexpected indent\n"
          ]
        }
      ]
    },
    {
      "cell_type": "code",
      "metadata": {
        "colab": {
          "base_uri": "https://localhost:8080/"
        },
        "id": "U3-yXDE5gV1H",
        "outputId": "f2067f5d-17c6-47c9-9ccf-dd59ed5be8a9"
      },
      "source": [
        "A = [1,2,4,3]\n",
        "for i in A:\n",
        "  print(i)"
      ],
      "execution_count": null,
      "outputs": [
        {
          "name": "stdout",
          "output_type": "stream",
          "text": [
            "1\n",
            "2\n",
            "4\n",
            "3\n"
          ]
        }
      ]
    },
    {
      "cell_type": "code",
      "metadata": {
        "id": "NWplfRxog51e"
      },
      "source": [
        "A = []\n",
        "x = []\n",
        "k = 0\n",
        "for i in range(100,1000):\n",
        "  x = x + [i]\n",
        "for b in x:\n",
        "  b = str(b)\n",
        "  for c in b:\n",
        "    \n",
        "    k = k + (int(c)**3)\n",
        "    if k == b:\n",
        "      A = A + [k]\n",
        "print(A)\n"
      ],
      "execution_count": null,
      "outputs": []
    },
    {
      "cell_type": "code",
      "metadata": {
        "colab": {
          "base_uri": "https://localhost:8080/"
        },
        "id": "Z17UQP5oiHiD",
        "outputId": "9c332477-1f2a-4e1e-dceb-874b073c7a4b"
      },
      "source": [
        "A = []; x = []; k = []; z = []\n",
        "for i in range(100,1000):\n",
        "  x = x + [i]\n",
        "for b in x:\n",
        "  b = str(b)\n",
        "  for c in b:\n",
        "    k = k + [(int(c)**3)]\n",
        "for h in range(0,2700,3):\n",
        "  sumabc = sum(k[h:h+3])   \n",
        "  A = A + [sumabc]\n",
        "for i in range (0,900):\n",
        "  if int(x[i]) == int(A[i]):\n",
        "    z = z + [x[i]]\n",
        "print(z)\n",
        "    \n"
      ],
      "execution_count": null,
      "outputs": [
        {
          "name": "stdout",
          "output_type": "stream",
          "text": [
            "[153, 370, 371, 407]\n"
          ]
        }
      ]
    },
    {
      "cell_type": "code",
      "metadata": {
        "colab": {
          "base_uri": "https://localhost:8080/"
        },
        "id": "PdgeWk29ltyU",
        "outputId": "ecd5e7fe-4718-43b2-c961-f6e341d4cda2"
      },
      "source": [
        "z = []\n",
        "for i in range(100,1000):\n",
        "  x = str(i)\n",
        "  a = x[0]\n",
        "  b = x[1]\n",
        "  c = x[2]\n",
        "  if (int(a)**3 + int(b)**3 + int(c)**3) == i:\n",
        "    z = z + [i]\n",
        "print(z)"
      ],
      "execution_count": null,
      "outputs": [
        {
          "name": "stdout",
          "output_type": "stream",
          "text": [
            "[153, 370, 371, 407]\n"
          ]
        }
      ]
    },
    {
      "cell_type": "code",
      "metadata": {
        "colab": {
          "base_uri": "https://localhost:8080/"
        },
        "id": "BEvEo7jCwax-",
        "outputId": "54acfe54-3f86-4203-d47f-93601bac6987"
      },
      "source": [
        "def factorlist(a):\n",
        "  x = []\n",
        "  for i in range(1,a+1):\n",
        "    if a%i == 0:\n",
        "      x = x + [i]\n",
        "  return x\n",
        "\n",
        "  \n",
        "factorlist(200)"
      ],
      "execution_count": null,
      "outputs": [
        {
          "data": {
            "text/plain": [
              "[1, 2, 4, 5, 8, 10, 20, 25, 40, 50, 100, 200]"
            ]
          },
          "execution_count": 13,
          "metadata": {},
          "output_type": "execute_result"
        }
      ]
    },
    {
      "cell_type": "code",
      "metadata": {
        "colab": {
          "base_uri": "https://localhost:8080/"
        },
        "id": "d4ZRO23RAJZd",
        "outputId": "1741badd-848e-4271-f477-f105f0afccc8"
      },
      "source": [
        "x = []\n",
        "a = 6\n",
        "for i in range(1,a+1):\n",
        "  if a%i == 0:\n",
        "    x = x + [i]\n",
        "print(x)"
      ],
      "execution_count": null,
      "outputs": [
        {
          "name": "stdout",
          "output_type": "stream",
          "text": [
            "[1, 2, 3, 6]\n"
          ]
        }
      ]
    },
    {
      "cell_type": "code",
      "metadata": {
        "colab": {
          "base_uri": "https://localhost:8080/"
        },
        "id": "20uCMnFuAa0q",
        "outputId": "0a2051e7-d0f8-4026-994b-77ba0c3be310"
      },
      "source": [
        "x = [1,1]\n",
        "y = [1,1,1]\n",
        "p = []\n",
        "result = 0\n",
        "z = 0\n",
        "carry = 0\n",
        "if len(x) > len(y):\n",
        "  for i in range(0,(len(x)-len(y))):\n",
        "    y.insert(i,0)\n",
        "if len(x) < len(y):\n",
        "  for i in range(0,(len(y)-len(x))):\n",
        "    x.insert(i,0)\n",
        "for i in range(-1,-len(x)-1,-1):\n",
        "  z = x[i] + y[i] + carry\n",
        "  if z == 3:\n",
        "    carry = 1\n",
        "    result = 1\n",
        "  if z == 2:\n",
        "    carry = 1\n",
        "    result = 0\n",
        "  if z == 1:\n",
        "    carry = 0\n",
        "    result = 1\n",
        "  if z == 0:\n",
        "    carry = 0\n",
        "    result = 0\n",
        "  p = [result] + p\n",
        "  \n",
        "if carry == 1:\n",
        "    p = [1] + p\n",
        "print(p)\n",
        "\n"
      ],
      "execution_count": null,
      "outputs": [
        {
          "name": "stdout",
          "output_type": "stream",
          "text": [
            "[1, 0, 1, 0]\n"
          ]
        }
      ]
    },
    {
      "cell_type": "code",
      "metadata": {
        "colab": {
          "base_uri": "https://localhost:8080/"
        },
        "id": "C8JVhSyzHc9T",
        "outputId": "f523776e-2750-4190-93af-373a1822cce5"
      },
      "source": [
        "x = [0,1,1]\n",
        "y = [1,1,0]\n",
        "for i in range(-1,-len(x)-1,-1):\n",
        "  z = x[i] + y[i] + carry"
      ],
      "execution_count": null,
      "outputs": [
        {
          "name": "stdout",
          "output_type": "stream",
          "text": [
            "1\n",
            "2\n",
            "1\n"
          ]
        }
      ]
    },
    {
      "cell_type": "code",
      "metadata": {
        "id": "fOBeJrf95-u4"
      },
      "source": [
        "def binaryadd(a,b):\n",
        "  if len(b) >= len(a):\n",
        "    a = [0]*(len(a)-len(b)) + a\n",
        "    maxlen = len(a)\n",
        "  else:\n",
        "    b = [0]*(len(b)-len(a)) + b \n",
        "    maxlen = len(b)\n",
        "  \n",
        "  carry = 0;\n",
        "  c = []\n",
        "  for i in range(-1,-(maxlen + 1),-1):\n",
        "    result = a[i] + b[i] + carry\n",
        "    if result >= 2:\n",
        "      carry = 1\n",
        "      result = result - 2\n",
        "    else: \n",
        "      carry = 0\n",
        "    c = [result] + c\n",
        "\n",
        "  if carry == 1:\n",
        "    c = [1] + c\n",
        "  return c\n",
        "\n",
        "binaryadd([1,1,1],[1,0,0])"
      ],
      "execution_count": null,
      "outputs": []
    },
    {
      "cell_type": "code",
      "metadata": {
        "colab": {
          "base_uri": "https://localhost:8080/"
        },
        "id": "6edVncueOQHN",
        "outputId": "a606dde3-e983-4113-88b8-921e34be311a"
      },
      "source": [
        "x = 100\n",
        "while z < 0:\n",
        "  for i in range(1,x,2):\n",
        "    z = i*(i+1)\n",
        "print(z)"
      ],
      "execution_count": null,
      "outputs": [
        {
          "name": "stdout",
          "output_type": "stream",
          "text": [
            "2\n"
          ]
        }
      ]
    },
    {
      "cell_type": "code",
      "metadata": {
        "colab": {
          "base_uri": "https://localhost:8080/"
        },
        "id": "RZt76qu-OqQn",
        "outputId": "541d40b6-f3be-479d-f63e-576ac4f943e1"
      },
      "source": [
        "x = 0\n",
        "while x < 100000:\n",
        "  for i in range(1,100000,2):\n",
        "    x = x + (i*(i+1))\n",
        "    if x > 100000:\n",
        "      break\n",
        "print(i-2)"
      ],
      "execution_count": null,
      "outputs": [
        {
          "output_type": "stream",
          "name": "stdout",
          "text": [
            "81\n"
          ]
        }
      ]
    },
    {
      "cell_type": "code",
      "metadata": {
        "id": "dv0V5vd3G9Pm"
      },
      "source": [
        ""
      ],
      "execution_count": null,
      "outputs": []
    },
    {
      "cell_type": "code",
      "metadata": {
        "colab": {
          "base_uri": "https://localhost:8080/"
        },
        "id": "aeC953ZTPPxm",
        "outputId": "247f9297-9696-4c15-b3ce-b1a30efe4590"
      },
      "source": [
        "x = 0\n",
        "for i in range(1,83,2):\n",
        "  x = x + i*(i+1)\n",
        "print(x)"
      ],
      "execution_count": null,
      "outputs": [
        {
          "output_type": "stream",
          "name": "stdout",
          "text": [
            "93562\n"
          ]
        }
      ]
    },
    {
      "cell_type": "code",
      "metadata": {
        "colab": {
          "base_uri": "https://localhost:8080/"
        },
        "id": "KmHeRPECQQ0E",
        "outputId": "c906aa07-f5b9-4373-bf6d-87fe79defe1f"
      },
      "source": [
        "#change\n",
        "banknote = [1000,500,100,50,20,10,5,2,1]\n",
        "change = int(input('WHat is your change: '))\n",
        "carry = 0\n",
        "z = 0\n",
        "x =[]\n",
        "\n",
        "for bank in banknote:\n",
        "  z = int(change/bank)\n",
        "  carry = change - (z*bank)\n",
        "  change = carry\n",
        "  x = x + [(bank, z)]\n",
        "print(x)\n"
      ],
      "execution_count": null,
      "outputs": [
        {
          "name": "stdout",
          "output_type": "stream",
          "text": [
            "WHat is your change: 777\n",
            "[(1000, 0), (500, 1), (100, 2), (50, 1), (20, 1), (10, 0), (5, 1), (2, 1), (1, 0)]\n"
          ]
        }
      ]
    },
    {
      "cell_type": "code",
      "metadata": {
        "id": "r-ef5CPKRNsU"
      },
      "source": [
        "#change with only 2 100 notes\n",
        "banknote = [1000,500,100,50,20,10,5,2,1]\n",
        "change = int(input('WHat is your change: '))\n",
        "carry = 0\n",
        "z = 0\n",
        "x =[]\n",
        "\n",
        "for bank in banknote:\n",
        "  if bank == 100:\n",
        "    z = 2\n",
        "  else:\n",
        "    z = int(change/bank)\n",
        "  carry = change - (z*bank)\n",
        "  change = carry\n",
        "  x = x + [(bank, z)]\n",
        "print(x)\n"
      ],
      "execution_count": null,
      "outputs": []
    },
    {
      "cell_type": "code",
      "metadata": {
        "id": "fpmrmjhDT2t8"
      },
      "source": [
        "#guessing numnber\n",
        "y = -1\n",
        "import random\n",
        "x = random.randint(1, 100)\n",
        "while y != x:\n",
        "  y = int(input(\"What is your guess: \"))\n",
        "  if y < x:\n",
        "    print('Too low')\n",
        "  if y > x:\n",
        "    print('Too high')\n",
        "  if y == x:\n",
        "    print('You are correct')"
      ],
      "execution_count": null,
      "outputs": []
    },
    {
      "cell_type": "code",
      "metadata": {
        "colab": {
          "base_uri": "https://localhost:8080/"
        },
        "id": "nUDVpKANa6DQ",
        "outputId": "7c81da6d-b4da-485a-a741-5927c1c8b91c"
      },
      "source": [
        "#Listssplit\n",
        "A = [1,2,3,4,5,6]\n",
        "n = 3\n",
        "z = int(len(A)/3)\n",
        "x = len(A)\n",
        "y = []\n",
        "for i in range(0,x,z):\n",
        "  y = y + [A[i:i+z]]\n",
        "print(y)"
      ],
      "execution_count": null,
      "outputs": [
        {
          "output_type": "stream",
          "name": "stdout",
          "text": [
            "[[1, 2], [3, 4], [5, 6]]\n"
          ]
        }
      ]
    },
    {
      "cell_type": "code",
      "metadata": {
        "colab": {
          "base_uri": "https://localhost:8080/"
        },
        "id": "sS9MOeNLbYwN",
        "outputId": "d78d61d2-8acf-47f8-97f6-2f51fb8e75aa"
      },
      "source": [
        "from google.colab import drive\n",
        "import pandas as pd\n",
        "import os\n",
        "\n",
        "drive.mount('/content/gdrive')\n",
        "os.chdir('/content/gdrive/My Drive/Pandas/')  \n",
        "df_xp = pd.read_excel('ThaiExport.xlsx',sheet_name='Export')\n",
        "df_pn = pd.read_excel('ThaiExport.xlsx',sheet_name='Partner')"
      ],
      "execution_count": null,
      "outputs": [
        {
          "output_type": "stream",
          "name": "stdout",
          "text": [
            "Mounted at /content/gdrive\n"
          ]
        }
      ]
    },
    {
      "cell_type": "code",
      "metadata": {
        "colab": {
          "base_uri": "https://localhost:8080/",
          "height": 417
        },
        "id": "GuQaV15xzlpj",
        "outputId": "152623c7-63ba-45ba-b152-3190e5e892e1"
      },
      "source": [
        "df_xp"
      ],
      "execution_count": null,
      "outputs": [
        {
          "output_type": "execute_result",
          "data": {
            "text/html": [
              "<div>\n",
              "<style scoped>\n",
              "    .dataframe tbody tr th:only-of-type {\n",
              "        vertical-align: middle;\n",
              "    }\n",
              "\n",
              "    .dataframe tbody tr th {\n",
              "        vertical-align: top;\n",
              "    }\n",
              "\n",
              "    .dataframe thead th {\n",
              "        text-align: right;\n",
              "    }\n",
              "</style>\n",
              "<table border=\"1\" class=\"dataframe\">\n",
              "  <thead>\n",
              "    <tr style=\"text-align: right;\">\n",
              "      <th></th>\n",
              "      <th>Year</th>\n",
              "      <th>Trade Flow</th>\n",
              "      <th>Partner ISO</th>\n",
              "      <th>Commodity</th>\n",
              "      <th>Netweight (kg)</th>\n",
              "      <th>Trade Value (US$)</th>\n",
              "    </tr>\n",
              "  </thead>\n",
              "  <tbody>\n",
              "    <tr>\n",
              "      <th>0</th>\n",
              "      <td>2017</td>\n",
              "      <td>Export</td>\n",
              "      <td>WLD</td>\n",
              "      <td>Rice</td>\n",
              "      <td>1.167433e+10</td>\n",
              "      <td>5186570155</td>\n",
              "    </tr>\n",
              "    <tr>\n",
              "      <th>1</th>\n",
              "      <td>2017</td>\n",
              "      <td>Export</td>\n",
              "      <td>ALB</td>\n",
              "      <td>Rice</td>\n",
              "      <td>1.630000e+06</td>\n",
              "      <td>705929</td>\n",
              "    </tr>\n",
              "    <tr>\n",
              "      <th>2</th>\n",
              "      <td>2017</td>\n",
              "      <td>Export</td>\n",
              "      <td>DZA</td>\n",
              "      <td>Rice</td>\n",
              "      <td>4.751785e+07</td>\n",
              "      <td>18337258</td>\n",
              "    </tr>\n",
              "    <tr>\n",
              "      <th>3</th>\n",
              "      <td>2017</td>\n",
              "      <td>Export</td>\n",
              "      <td>AGO</td>\n",
              "      <td>Rice</td>\n",
              "      <td>3.965032e+08</td>\n",
              "      <td>153991156</td>\n",
              "    </tr>\n",
              "    <tr>\n",
              "      <th>4</th>\n",
              "      <td>2017</td>\n",
              "      <td>Export</td>\n",
              "      <td>AZE</td>\n",
              "      <td>Rice</td>\n",
              "      <td>5.000000e+05</td>\n",
              "      <td>183999</td>\n",
              "    </tr>\n",
              "    <tr>\n",
              "      <th>...</th>\n",
              "      <td>...</td>\n",
              "      <td>...</td>\n",
              "      <td>...</td>\n",
              "      <td>...</td>\n",
              "      <td>...</td>\n",
              "      <td>...</td>\n",
              "    </tr>\n",
              "    <tr>\n",
              "      <th>1756</th>\n",
              "      <td>2016</td>\n",
              "      <td>Export</td>\n",
              "      <td>UZB</td>\n",
              "      <td>Rubber</td>\n",
              "      <td>0.000000e+00</td>\n",
              "      <td>48367</td>\n",
              "    </tr>\n",
              "    <tr>\n",
              "      <th>1757</th>\n",
              "      <td>2016</td>\n",
              "      <td>Export</td>\n",
              "      <td>VEN</td>\n",
              "      <td>Rubber</td>\n",
              "      <td>0.000000e+00</td>\n",
              "      <td>6241297</td>\n",
              "    </tr>\n",
              "    <tr>\n",
              "      <th>1758</th>\n",
              "      <td>2016</td>\n",
              "      <td>Export</td>\n",
              "      <td>WSM</td>\n",
              "      <td>Rubber</td>\n",
              "      <td>0.000000e+00</td>\n",
              "      <td>27123</td>\n",
              "    </tr>\n",
              "    <tr>\n",
              "      <th>1759</th>\n",
              "      <td>2016</td>\n",
              "      <td>Export</td>\n",
              "      <td>YEM</td>\n",
              "      <td>Rubber</td>\n",
              "      <td>0.000000e+00</td>\n",
              "      <td>4784153</td>\n",
              "    </tr>\n",
              "    <tr>\n",
              "      <th>1760</th>\n",
              "      <td>2016</td>\n",
              "      <td>Export</td>\n",
              "      <td>ZMB</td>\n",
              "      <td>Rubber</td>\n",
              "      <td>0.000000e+00</td>\n",
              "      <td>32223</td>\n",
              "    </tr>\n",
              "  </tbody>\n",
              "</table>\n",
              "<p>1761 rows × 6 columns</p>\n",
              "</div>"
            ],
            "text/plain": [
              "      Year Trade Flow Partner ISO Commodity  Netweight (kg)  Trade Value (US$)\n",
              "0     2017     Export         WLD      Rice    1.167433e+10         5186570155\n",
              "1     2017     Export         ALB      Rice    1.630000e+06             705929\n",
              "2     2017     Export         DZA      Rice    4.751785e+07           18337258\n",
              "3     2017     Export         AGO      Rice    3.965032e+08          153991156\n",
              "4     2017     Export         AZE      Rice    5.000000e+05             183999\n",
              "...    ...        ...         ...       ...             ...                ...\n",
              "1756  2016     Export         UZB    Rubber    0.000000e+00              48367\n",
              "1757  2016     Export         VEN    Rubber    0.000000e+00            6241297\n",
              "1758  2016     Export         WSM    Rubber    0.000000e+00              27123\n",
              "1759  2016     Export         YEM    Rubber    0.000000e+00            4784153\n",
              "1760  2016     Export         ZMB    Rubber    0.000000e+00              32223\n",
              "\n",
              "[1761 rows x 6 columns]"
            ]
          },
          "metadata": {},
          "execution_count": 35
        }
      ]
    },
    {
      "cell_type": "code",
      "metadata": {
        "colab": {
          "base_uri": "https://localhost:8080/",
          "height": 665
        },
        "id": "OZCr99ezz8pC",
        "outputId": "aabfb4d8-8c02-448d-9ebd-02c29f7e536a"
      },
      "source": [
        "df_xp1 = df_xp[(df_xp['Partner ISO']=='IDN') | (df_xp['Partner ISO']=='MYS') | (df_xp['Partner ISO']=='PHL') | (df_xp['Partner ISO']=='SGP')] \n",
        "df_xp1 = df_xp1[df_xp1['Commodity']==\"Rice\"]\n",
        "df_xp1"
      ],
      "execution_count": null,
      "outputs": [
        {
          "output_type": "execute_result",
          "data": {
            "text/html": [
              "<div>\n",
              "<style scoped>\n",
              "    .dataframe tbody tr th:only-of-type {\n",
              "        vertical-align: middle;\n",
              "    }\n",
              "\n",
              "    .dataframe tbody tr th {\n",
              "        vertical-align: top;\n",
              "    }\n",
              "\n",
              "    .dataframe thead th {\n",
              "        text-align: right;\n",
              "    }\n",
              "</style>\n",
              "<table border=\"1\" class=\"dataframe\">\n",
              "  <thead>\n",
              "    <tr style=\"text-align: right;\">\n",
              "      <th></th>\n",
              "      <th>Year</th>\n",
              "      <th>Trade Flow</th>\n",
              "      <th>Partner ISO</th>\n",
              "      <th>Commodity</th>\n",
              "      <th>Netweight (kg)</th>\n",
              "      <th>Trade Value (US$)</th>\n",
              "    </tr>\n",
              "  </thead>\n",
              "  <tbody>\n",
              "    <tr>\n",
              "      <th>60</th>\n",
              "      <td>2017</td>\n",
              "      <td>Export</td>\n",
              "      <td>IDN</td>\n",
              "      <td>Rice</td>\n",
              "      <td>1.289083e+08</td>\n",
              "      <td>59795040</td>\n",
              "    </tr>\n",
              "    <tr>\n",
              "      <th>81</th>\n",
              "      <td>2017</td>\n",
              "      <td>Export</td>\n",
              "      <td>MYS</td>\n",
              "      <td>Rice</td>\n",
              "      <td>3.025425e+08</td>\n",
              "      <td>123595415</td>\n",
              "    </tr>\n",
              "    <tr>\n",
              "      <th>111</th>\n",
              "      <td>2017</td>\n",
              "      <td>Export</td>\n",
              "      <td>PHL</td>\n",
              "      <td>Rice</td>\n",
              "      <td>2.917236e+08</td>\n",
              "      <td>106284257</td>\n",
              "    </tr>\n",
              "    <tr>\n",
              "      <th>125</th>\n",
              "      <td>2017</td>\n",
              "      <td>Export</td>\n",
              "      <td>SGP</td>\n",
              "      <td>Rice</td>\n",
              "      <td>1.232033e+08</td>\n",
              "      <td>91066354</td>\n",
              "    </tr>\n",
              "    <tr>\n",
              "      <th>217</th>\n",
              "      <td>2018</td>\n",
              "      <td>Export</td>\n",
              "      <td>IDN</td>\n",
              "      <td>Rice</td>\n",
              "      <td>8.128165e+08</td>\n",
              "      <td>368784006</td>\n",
              "    </tr>\n",
              "    <tr>\n",
              "      <th>239</th>\n",
              "      <td>2018</td>\n",
              "      <td>Export</td>\n",
              "      <td>MYS</td>\n",
              "      <td>Rice</td>\n",
              "      <td>4.752028e+08</td>\n",
              "      <td>195054006</td>\n",
              "    </tr>\n",
              "    <tr>\n",
              "      <th>269</th>\n",
              "      <td>2018</td>\n",
              "      <td>Export</td>\n",
              "      <td>PHL</td>\n",
              "      <td>Rice</td>\n",
              "      <td>1.029584e+09</td>\n",
              "      <td>406239899</td>\n",
              "    </tr>\n",
              "    <tr>\n",
              "      <th>284</th>\n",
              "      <td>2018</td>\n",
              "      <td>Export</td>\n",
              "      <td>SGP</td>\n",
              "      <td>Rice</td>\n",
              "      <td>1.042333e+08</td>\n",
              "      <td>102544062</td>\n",
              "    </tr>\n",
              "    <tr>\n",
              "      <th>374</th>\n",
              "      <td>2019</td>\n",
              "      <td>Export</td>\n",
              "      <td>IDN</td>\n",
              "      <td>Rice</td>\n",
              "      <td>7.944741e+07</td>\n",
              "      <td>39026038</td>\n",
              "    </tr>\n",
              "    <tr>\n",
              "      <th>396</th>\n",
              "      <td>2019</td>\n",
              "      <td>Export</td>\n",
              "      <td>MYS</td>\n",
              "      <td>Rice</td>\n",
              "      <td>1.786805e+08</td>\n",
              "      <td>116426128</td>\n",
              "    </tr>\n",
              "    <tr>\n",
              "      <th>424</th>\n",
              "      <td>2019</td>\n",
              "      <td>Export</td>\n",
              "      <td>PHL</td>\n",
              "      <td>Rice</td>\n",
              "      <td>1.589023e+08</td>\n",
              "      <td>124092905</td>\n",
              "    </tr>\n",
              "    <tr>\n",
              "      <th>438</th>\n",
              "      <td>2019</td>\n",
              "      <td>Export</td>\n",
              "      <td>SGP</td>\n",
              "      <td>Rice</td>\n",
              "      <td>1.045334e+08</td>\n",
              "      <td>99698081</td>\n",
              "    </tr>\n",
              "    <tr>\n",
              "      <th>526</th>\n",
              "      <td>2020</td>\n",
              "      <td>Export</td>\n",
              "      <td>IDN</td>\n",
              "      <td>Rice</td>\n",
              "      <td>8.940625e+07</td>\n",
              "      <td>72241590</td>\n",
              "    </tr>\n",
              "    <tr>\n",
              "      <th>548</th>\n",
              "      <td>2020</td>\n",
              "      <td>Export</td>\n",
              "      <td>MYS</td>\n",
              "      <td>Rice</td>\n",
              "      <td>7.339988e+07</td>\n",
              "      <td>35888429</td>\n",
              "    </tr>\n",
              "    <tr>\n",
              "      <th>575</th>\n",
              "      <td>2020</td>\n",
              "      <td>Export</td>\n",
              "      <td>PHL</td>\n",
              "      <td>Rice</td>\n",
              "      <td>7.960763e+07</td>\n",
              "      <td>36767781</td>\n",
              "    </tr>\n",
              "    <tr>\n",
              "      <th>590</th>\n",
              "      <td>2020</td>\n",
              "      <td>Export</td>\n",
              "      <td>SGP</td>\n",
              "      <td>Rice</td>\n",
              "      <td>1.272952e+08</td>\n",
              "      <td>125020872</td>\n",
              "    </tr>\n",
              "    <tr>\n",
              "      <th>1467</th>\n",
              "      <td>2016</td>\n",
              "      <td>Export</td>\n",
              "      <td>IDN</td>\n",
              "      <td>Rice</td>\n",
              "      <td>4.000100e+08</td>\n",
              "      <td>161761338</td>\n",
              "    </tr>\n",
              "    <tr>\n",
              "      <th>1490</th>\n",
              "      <td>2016</td>\n",
              "      <td>Export</td>\n",
              "      <td>MYS</td>\n",
              "      <td>Rice</td>\n",
              "      <td>4.341991e+08</td>\n",
              "      <td>172470359</td>\n",
              "    </tr>\n",
              "    <tr>\n",
              "      <th>1518</th>\n",
              "      <td>2016</td>\n",
              "      <td>Export</td>\n",
              "      <td>PHL</td>\n",
              "      <td>Rice</td>\n",
              "      <td>3.087259e+08</td>\n",
              "      <td>108234906</td>\n",
              "    </tr>\n",
              "    <tr>\n",
              "      <th>1533</th>\n",
              "      <td>2016</td>\n",
              "      <td>Export</td>\n",
              "      <td>SGP</td>\n",
              "      <td>Rice</td>\n",
              "      <td>1.275930e+08</td>\n",
              "      <td>95375392</td>\n",
              "    </tr>\n",
              "  </tbody>\n",
              "</table>\n",
              "</div>"
            ],
            "text/plain": [
              "      Year Trade Flow Partner ISO Commodity  Netweight (kg)  Trade Value (US$)\n",
              "60    2017     Export         IDN      Rice    1.289083e+08           59795040\n",
              "81    2017     Export         MYS      Rice    3.025425e+08          123595415\n",
              "111   2017     Export         PHL      Rice    2.917236e+08          106284257\n",
              "125   2017     Export         SGP      Rice    1.232033e+08           91066354\n",
              "217   2018     Export         IDN      Rice    8.128165e+08          368784006\n",
              "239   2018     Export         MYS      Rice    4.752028e+08          195054006\n",
              "269   2018     Export         PHL      Rice    1.029584e+09          406239899\n",
              "284   2018     Export         SGP      Rice    1.042333e+08          102544062\n",
              "374   2019     Export         IDN      Rice    7.944741e+07           39026038\n",
              "396   2019     Export         MYS      Rice    1.786805e+08          116426128\n",
              "424   2019     Export         PHL      Rice    1.589023e+08          124092905\n",
              "438   2019     Export         SGP      Rice    1.045334e+08           99698081\n",
              "526   2020     Export         IDN      Rice    8.940625e+07           72241590\n",
              "548   2020     Export         MYS      Rice    7.339988e+07           35888429\n",
              "575   2020     Export         PHL      Rice    7.960763e+07           36767781\n",
              "590   2020     Export         SGP      Rice    1.272952e+08          125020872\n",
              "1467  2016     Export         IDN      Rice    4.000100e+08          161761338\n",
              "1490  2016     Export         MYS      Rice    4.341991e+08          172470359\n",
              "1518  2016     Export         PHL      Rice    3.087259e+08          108234906\n",
              "1533  2016     Export         SGP      Rice    1.275930e+08           95375392"
            ]
          },
          "metadata": {},
          "execution_count": 62
        }
      ]
    },
    {
      "cell_type": "code",
      "metadata": {
        "colab": {
          "base_uri": "https://localhost:8080/",
          "height": 203
        },
        "id": "kHYym55H0fVS",
        "outputId": "ad10af4c-9680-4ee5-fb7d-29fded3a474a"
      },
      "source": [
        "df_agg = df_xp1.groupby(by=['Partner ISO',]).sum()\n",
        "df_agg"
      ],
      "execution_count": null,
      "outputs": [
        {
          "output_type": "execute_result",
          "data": {
            "text/html": [
              "<div>\n",
              "<style scoped>\n",
              "    .dataframe tbody tr th:only-of-type {\n",
              "        vertical-align: middle;\n",
              "    }\n",
              "\n",
              "    .dataframe tbody tr th {\n",
              "        vertical-align: top;\n",
              "    }\n",
              "\n",
              "    .dataframe thead th {\n",
              "        text-align: right;\n",
              "    }\n",
              "</style>\n",
              "<table border=\"1\" class=\"dataframe\">\n",
              "  <thead>\n",
              "    <tr style=\"text-align: right;\">\n",
              "      <th></th>\n",
              "      <th>Year</th>\n",
              "      <th>Netweight (kg)</th>\n",
              "      <th>Trade Value (US$)</th>\n",
              "    </tr>\n",
              "    <tr>\n",
              "      <th>Partner ISO</th>\n",
              "      <th></th>\n",
              "      <th></th>\n",
              "      <th></th>\n",
              "    </tr>\n",
              "  </thead>\n",
              "  <tbody>\n",
              "    <tr>\n",
              "      <th>IDN</th>\n",
              "      <td>10090</td>\n",
              "      <td>1.510588e+09</td>\n",
              "      <td>701608012</td>\n",
              "    </tr>\n",
              "    <tr>\n",
              "      <th>MYS</th>\n",
              "      <td>10090</td>\n",
              "      <td>1.464025e+09</td>\n",
              "      <td>643434337</td>\n",
              "    </tr>\n",
              "    <tr>\n",
              "      <th>PHL</th>\n",
              "      <td>10090</td>\n",
              "      <td>1.868543e+09</td>\n",
              "      <td>781619748</td>\n",
              "    </tr>\n",
              "    <tr>\n",
              "      <th>SGP</th>\n",
              "      <td>10090</td>\n",
              "      <td>5.868582e+08</td>\n",
              "      <td>513704761</td>\n",
              "    </tr>\n",
              "  </tbody>\n",
              "</table>\n",
              "</div>"
            ],
            "text/plain": [
              "              Year  Netweight (kg)  Trade Value (US$)\n",
              "Partner ISO                                          \n",
              "IDN          10090    1.510588e+09          701608012\n",
              "MYS          10090    1.464025e+09          643434337\n",
              "PHL          10090    1.868543e+09          781619748\n",
              "SGP          10090    5.868582e+08          513704761"
            ]
          },
          "metadata": {},
          "execution_count": 74
        }
      ]
    },
    {
      "cell_type": "code",
      "metadata": {
        "colab": {
          "base_uri": "https://localhost:8080/",
          "height": 203
        },
        "id": "Hvrgb7vW2oyT",
        "outputId": "94a8a496-ec24-4e16-fe42-48393597b201"
      },
      "source": [
        "df_agg\n"
      ],
      "execution_count": null,
      "outputs": [
        {
          "output_type": "execute_result",
          "data": {
            "text/html": [
              "<div>\n",
              "<style scoped>\n",
              "    .dataframe tbody tr th:only-of-type {\n",
              "        vertical-align: middle;\n",
              "    }\n",
              "\n",
              "    .dataframe tbody tr th {\n",
              "        vertical-align: top;\n",
              "    }\n",
              "\n",
              "    .dataframe thead th {\n",
              "        text-align: right;\n",
              "    }\n",
              "</style>\n",
              "<table border=\"1\" class=\"dataframe\">\n",
              "  <thead>\n",
              "    <tr style=\"text-align: right;\">\n",
              "      <th></th>\n",
              "      <th>Netweight (kg)</th>\n",
              "      <th>Trade Value (US$)</th>\n",
              "    </tr>\n",
              "    <tr>\n",
              "      <th>Partner ISO</th>\n",
              "      <th></th>\n",
              "      <th></th>\n",
              "    </tr>\n",
              "  </thead>\n",
              "  <tbody>\n",
              "    <tr>\n",
              "      <th>IDN</th>\n",
              "      <td>1.510588e+09</td>\n",
              "      <td>701608012</td>\n",
              "    </tr>\n",
              "    <tr>\n",
              "      <th>MYS</th>\n",
              "      <td>1.464025e+09</td>\n",
              "      <td>643434337</td>\n",
              "    </tr>\n",
              "    <tr>\n",
              "      <th>PHL</th>\n",
              "      <td>1.868543e+09</td>\n",
              "      <td>781619748</td>\n",
              "    </tr>\n",
              "    <tr>\n",
              "      <th>SGP</th>\n",
              "      <td>5.868582e+08</td>\n",
              "      <td>513704761</td>\n",
              "    </tr>\n",
              "  </tbody>\n",
              "</table>\n",
              "</div>"
            ],
            "text/plain": [
              "             Netweight (kg)  Trade Value (US$)\n",
              "Partner ISO                                   \n",
              "IDN            1.510588e+09          701608012\n",
              "MYS            1.464025e+09          643434337\n",
              "PHL            1.868543e+09          781619748\n",
              "SGP            5.868582e+08          513704761"
            ]
          },
          "metadata": {},
          "execution_count": 79
        }
      ]
    },
    {
      "cell_type": "code",
      "metadata": {
        "id": "erFRLVUX3Yoc"
      },
      "source": [
        "df_agg = df_agg.drop(columns = ['Netweight (kg)'])\n"
      ],
      "execution_count": null,
      "outputs": []
    },
    {
      "cell_type": "code",
      "metadata": {
        "colab": {
          "base_uri": "https://localhost:8080/",
          "height": 203
        },
        "id": "OLWBdHew7vLL",
        "outputId": "46f95de4-ae51-4fae-85b4-fb45ad3bffa3"
      },
      "source": [
        "df_agg"
      ],
      "execution_count": null,
      "outputs": [
        {
          "output_type": "execute_result",
          "data": {
            "text/html": [
              "<div>\n",
              "<style scoped>\n",
              "    .dataframe tbody tr th:only-of-type {\n",
              "        vertical-align: middle;\n",
              "    }\n",
              "\n",
              "    .dataframe tbody tr th {\n",
              "        vertical-align: top;\n",
              "    }\n",
              "\n",
              "    .dataframe thead th {\n",
              "        text-align: right;\n",
              "    }\n",
              "</style>\n",
              "<table border=\"1\" class=\"dataframe\">\n",
              "  <thead>\n",
              "    <tr style=\"text-align: right;\">\n",
              "      <th></th>\n",
              "      <th>Trade Value (US$)</th>\n",
              "    </tr>\n",
              "    <tr>\n",
              "      <th>Partner ISO</th>\n",
              "      <th></th>\n",
              "    </tr>\n",
              "  </thead>\n",
              "  <tbody>\n",
              "    <tr>\n",
              "      <th>IDN</th>\n",
              "      <td>701608012</td>\n",
              "    </tr>\n",
              "    <tr>\n",
              "      <th>MYS</th>\n",
              "      <td>643434337</td>\n",
              "    </tr>\n",
              "    <tr>\n",
              "      <th>PHL</th>\n",
              "      <td>781619748</td>\n",
              "    </tr>\n",
              "    <tr>\n",
              "      <th>SGP</th>\n",
              "      <td>513704761</td>\n",
              "    </tr>\n",
              "  </tbody>\n",
              "</table>\n",
              "</div>"
            ],
            "text/plain": [
              "             Trade Value (US$)\n",
              "Partner ISO                   \n",
              "IDN                  701608012\n",
              "MYS                  643434337\n",
              "PHL                  781619748\n",
              "SGP                  513704761"
            ]
          },
          "metadata": {},
          "execution_count": 82
        }
      ]
    },
    {
      "cell_type": "code",
      "metadata": {
        "id": "ummWM4g57ynn"
      },
      "source": [
        "df_agg.to_excel('Aggregate.xlsx')"
      ],
      "execution_count": null,
      "outputs": []
    },
    {
      "cell_type": "code",
      "metadata": {
        "id": "Xtt3CGvI79MJ",
        "colab": {
          "base_uri": "https://localhost:8080/"
        },
        "outputId": "31931c8b-f79c-4d37-d4f5-e741d356101a"
      },
      "source": [
        "x = 0\n",
        "while x < 100000:\n",
        "  for i in range(1,100000,2):\n",
        "    x = x + (i*(i+1))\n",
        "    if x > 100000:\n",
        "      break\n",
        "print(i-1)"
      ],
      "execution_count": null,
      "outputs": [
        {
          "output_type": "stream",
          "name": "stdout",
          "text": [
            "82\n"
          ]
        }
      ]
    },
    {
      "cell_type": "code",
      "metadata": {
        "colab": {
          "base_uri": "https://localhost:8080/"
        },
        "id": "rpSmQwTp-Ynw",
        "outputId": "7432f5b3-605a-4a1d-de1f-25bd49ecfa84"
      },
      "source": [
        "x = 0\n",
        "y = 0\n",
        "for i in range(1,101,2):\n",
        "  x = x + i\n",
        "for i in range(2,101,2):\n",
        "  y = y + 1/i\n",
        "print(x+y)"
      ],
      "execution_count": null,
      "outputs": [
        {
          "output_type": "stream",
          "name": "stdout",
          "text": [
            "2502.2496026691647\n"
          ]
        }
      ]
    },
    {
      "cell_type": "code",
      "metadata": {
        "id": "EuBtufSO_16K"
      },
      "source": [
        ""
      ],
      "execution_count": null,
      "outputs": []
    },
    {
      "cell_type": "code",
      "metadata": {
        "id": "yeWki0k3-z29",
        "colab": {
          "base_uri": "https://localhost:8080/"
        },
        "outputId": "a435f5db-ac26-4812-98c7-afb2c5bfcf75"
      },
      "source": [
        "#fizzbuzz\n",
        "x = int(input('What is your number: '))\n",
        "if x%3 == 0 and x%5 == 0:\n",
        "  print('FizzBuzz')\n",
        "else:\n",
        "  if x%3 == 0:\n",
        "    print('Fizz')\n",
        "  if x%5 == 0:\n",
        "    print('Buzz')\n",
        "  if x%3 != 0 and x%5 != 0:\n",
        "    print(x)\n",
        "\n",
        "\n",
        "\n",
        "  "
      ],
      "execution_count": null,
      "outputs": [
        {
          "output_type": "stream",
          "name": "stdout",
          "text": [
            "What is your number: 9\n",
            "Fizz\n"
          ]
        }
      ]
    },
    {
      "cell_type": "code",
      "metadata": {
        "id": "2qGCKbl_AleZ"
      },
      "source": [
        "#Question 3 driver speed limits\n",
        "speed = int(input('What is the speed: '))\n",
        "x = 0\n",
        "if speed <= 70:\n",
        "  print('Ok')\n",
        "if speed > 70:\n",
        "  x = int((speed - 70)/5)\n",
        "  if x >= 12:\n",
        "    print('License suspended')\n",
        "  else:\n",
        "    print(\"Points:\", x)\n"
      ],
      "execution_count": null,
      "outputs": []
    },
    {
      "cell_type": "code",
      "metadata": {
        "colab": {
          "base_uri": "https://localhost:8080/"
        },
        "id": "5b_YxtjsDfzc",
        "outputId": "45eee40e-103c-4dc7-eb76-54b69c3aaa0f"
      },
      "source": [
        "#Shownumbers\n",
        "def shownumbers(A):\n",
        "  for i in range(0,A+1):\n",
        "    if i%2 == 0:\n",
        "      z = 'even'\n",
        "    else:\n",
        "      z = 'odd'\n",
        "    print(i, z)\n",
        "shownumbers(3)"
      ],
      "execution_count": null,
      "outputs": [
        {
          "output_type": "stream",
          "name": "stdout",
          "text": [
            "0 even\n",
            "1 odd\n",
            "2 even\n",
            "3 odd\n"
          ]
        }
      ]
    },
    {
      "cell_type": "code",
      "metadata": {
        "colab": {
          "base_uri": "https://localhost:8080/"
        },
        "id": "VtwwkkL1CuHg",
        "outputId": "bdc5afe0-1d64-4a8c-a99a-5a8e55d7b0d0"
      },
      "source": [
        "#sum of multiples of 3 and 5 between 0 and limits\n",
        "x = int(input('What is your limit: '))\n",
        "z = []\n",
        "for i in range(1,x+1):\n",
        "  if i%3 == 0 or i%5 == 0:\n",
        "    z = z + [i]\n",
        "print(z)"
      ],
      "execution_count": null,
      "outputs": [
        {
          "output_type": "stream",
          "name": "stdout",
          "text": [
            "What is your limit: 20\n",
            "[3, 5, 6, 9, 10, 12, 15, 18, 20]\n"
          ]
        }
      ]
    },
    {
      "cell_type": "code",
      "metadata": {
        "colab": {
          "base_uri": "https://localhost:8080/"
        },
        "id": "tr2EEaSGE7u0",
        "outputId": "e53d9bf5-cb36-4cc0-88b6-8a04bac61c33"
      },
      "source": [
        "#Show stars rows\n",
        "x = int(input('How many rows: '))\n",
        "print(\"*\" * x)"
      ],
      "execution_count": null,
      "outputs": [
        {
          "output_type": "stream",
          "name": "stdout",
          "text": [
            "How many rows: 5\n",
            "*****\n"
          ]
        }
      ]
    },
    {
      "cell_type": "code",
      "metadata": {
        "colab": {
          "base_uri": "https://localhost:8080/"
        },
        "id": "Wwspy9SAJXzT",
        "outputId": "d9b1d4be-0b94-484c-92d8-e669406ca183"
      },
      "source": [
        "#Prime number\n",
        "x = int(input('What is your number: '))\n",
        "z = 0\n",
        "y = []\n",
        "for i in range(1,x+1):\n",
        "  z = 0\n",
        "  for a in range(2,i):\n",
        "    if i%a == 0:\n",
        "      z = 1\n",
        "  if z == 0 and i != 1:\n",
        "    y = y + [i]\n",
        "  \n",
        "print(y)\n"
      ],
      "execution_count": null,
      "outputs": [
        {
          "output_type": "stream",
          "name": "stdout",
          "text": [
            "What is your number 10\n",
            "[2, 3, 5, 7]\n"
          ]
        }
      ]
    },
    {
      "cell_type": "code",
      "metadata": {
        "id": "nVUadoaPMKx8"
      },
      "source": [
        ""
      ],
      "execution_count": null,
      "outputs": []
    }
  ]
}